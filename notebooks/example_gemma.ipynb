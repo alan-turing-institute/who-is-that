{
 "cells": [
  {
   "cell_type": "code",
   "execution_count": 9,
   "metadata": {},
   "outputs": [
    {
     "data": {
      "text/plain": [
       "'Mr. Wickham is a handsome young man who has returned to Meryton after being away in town. He is accompanied by Mr. Denny, an officer who has just returned from London. Mr. Wickham has been offered a commission in the local corps and is eager to join the ranks of the soldiers. He is described as charming and well-spoken, and quickly captures the attention of the ladies in town.'"
      ]
     },
     "execution_count": 9,
     "metadata": {},
     "output_type": "execute_result"
    }
   ],
   "source": [
    "from ollama import Client\n",
    "client = Client(host='http://localhost:11434')\n",
    "\n",
    "# this should come from the front end\n",
    "character = \"Mr. Wickham\"\n",
    "\n",
    "# this should come from the front end\n",
    "context = open(\"data/one_fifth_text.txt\", \"r\").read()\n",
    "\n",
    "# this template prompt should be defined in advance\n",
    "prompt = open(\"prompts/input_prompt.txt\", \"r\").read()\n",
    "\n",
    "def who_is_that(context, prompt,character):\n",
    "  prompt = prompt.replace(\"{character}\", character)\n",
    "  concat = f\"CONTEXT: {context} \\n INSTRUCTIONS: {prompt}\"\n",
    "  response = client.chat(model='gemma', messages=[\n",
    "    {\n",
    "      'role': 'user',\n",
    "      'content': concat,\n",
    "    },\n",
    "  ])\n",
    "  return response[\"message\"][\"content\"]\n",
    "\n",
    "who_is_that(context, prompt, character)"
   ]
  }
 ],
 "metadata": {
  "kernelspec": {
   "display_name": ".venv",
   "language": "python",
   "name": "python3"
  },
  "language_info": {
   "codemirror_mode": {
    "name": "ipython",
    "version": 3
   },
   "file_extension": ".py",
   "mimetype": "text/x-python",
   "name": "python",
   "nbconvert_exporter": "python",
   "pygments_lexer": "ipython3",
   "version": "3.12.0"
  }
 },
 "nbformat": 4,
 "nbformat_minor": 2
}
