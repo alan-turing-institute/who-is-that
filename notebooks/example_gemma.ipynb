{
 "cells": [
  {
   "cell_type": "code",
   "execution_count": 2,
   "metadata": {},
   "outputs": [
    {
     "name": "stdout",
     "output_type": "stream",
     "text": [
      "Mr. Wickham is a young man who returned to their town with Mr. Denny from London. He has accepted a commission in the local corps. He is described as having a fine countenance, a good figure, and a pleasing address. Mr. Wickham is confident, agreeable, and well-spoken, making a good impression on the Bennet family and the local society.\n"
     ]
    }
   ],
   "source": [
    "from ollama import Client\n",
    "client = Client(host='http://localhost:11434')\n",
    "\n",
    "\n",
    "one_fifth_text = open(\"data/one_fifth_text.txt\", \"r\").read()\n",
    "\n",
    "prompt = f\"\"\"\n",
    "CONTEXT: {one_fifth_text}\n",
    "This CONTEXT is how far i have read in Pride and Prejudice by Jane Austen. I have not read any further than this. I need to write a summary of Mr. Wickham in Pride and Prejudice for school children who have only read the attached text. The summary should only include facts about Mr. Wickham that are explicitly known by this point in the story and should avoid any language that hints at uncertainty, future developments, or character motives. Please focus solely on clear, established information without any speculation about character intentions, motivations, or inner goals\n",
    "\"\"\"\n",
    "\n",
    "response = client.chat(model='gemma', messages=[\n",
    "  {\n",
    "    'role': 'user',\n",
    "    'content': prompt,\n",
    "  },\n",
    "])\n",
    "print(response[\"message\"][\"content\"])"
   ]
  },
  {
   "cell_type": "code",
   "execution_count": 23,
   "metadata": {},
   "outputs": [
    {
     "name": "stderr",
     "output_type": "stream",
     "text": [
      "/var/folders/bp/v78dbzp15sjc_j85g_r66t8w0000gr/T/ipykernel_6603/1931661496.py:11: XMLParsedAsHTMLWarning: It looks like you're parsing an XML document using an HTML parser. If this really is an HTML document (maybe it's XHTML?), you can ignore or filter this warning. If it's XML, you should know that using an XML parser will be more reliable. To parse this document as XML, make sure you have the lxml package installed, and pass the keyword argument `features=\"xml\"` into the BeautifulSoup constructor.\n",
      "  soup = BeautifulSoup(item.get_content(), 'lxml')\n"
     ]
    }
   ],
   "source": [
    "from ebooklib import epub\n",
    "import ebooklib\n",
    "from bs4 import BeautifulSoup\n",
    "\n",
    "def extract_text_from_epub(file_path):\n",
    "    book = epub.read_epub(file_path)\n",
    "    text_content = []\n",
    "\n",
    "    for item in book.get_items():\n",
    "        if item.get_type() == ebooklib.ITEM_DOCUMENT:\n",
    "            soup = BeautifulSoup(item.get_content(), 'lxml')\n",
    "            text_content.append(soup.get_text())\n",
    "\n",
    "    return '\\n'.join(text_content)\n",
    "\n",
    "# Example usage\n",
    "epub_file_path = 'jane-austen_pride-and-prejudice.epub'\n",
    "text = extract_text_from_epub(epub_file_path)\n",
    "one_fifth_text = text[:len(text)//5]\n",
    "\n",
    "# save the text to a file\n",
    "with open('sample_text.txt', 'w') as f:\n",
    "    f.write(one_fifth_text)"
   ]
  }
 ],
 "metadata": {
  "kernelspec": {
   "display_name": ".venv",
   "language": "python",
   "name": "python3"
  },
  "language_info": {
   "codemirror_mode": {
    "name": "ipython",
    "version": 3
   },
   "file_extension": ".py",
   "mimetype": "text/x-python",
   "name": "python",
   "nbconvert_exporter": "python",
   "pygments_lexer": "ipython3",
   "version": "3.12.0"
  }
 },
 "nbformat": 4,
 "nbformat_minor": 2
}
