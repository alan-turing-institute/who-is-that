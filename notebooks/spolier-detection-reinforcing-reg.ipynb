{
 "cells": [
  {
   "cell_type": "markdown",
   "metadata": {},
   "source": [
    "# Reinforcing REG\n",
    "\n",
    "1. Load the book what we wrote with AI and choose a bookmark\n",
    "2. Generate a summary\n",
    "3. Check for spoilers"
   ]
  },
  {
   "cell_type": "code",
   "execution_count": 1,
   "metadata": {},
   "outputs": [],
   "source": [
    "from whoisthat.whoisthat import who_is_that_really\n",
    "with open('../data/ReinforcingREG.txt', 'r') as file:\n",
    "  text = file.read()\n",
    "# model = 'gemma:2b'\n",
    "model = 'llama3'\n",
    "book = 'Reinforcing REG'\n",
    "bookmark = 'Chapter 5'"
   ]
  },
  {
   "cell_type": "code",
   "execution_count": 2,
   "metadata": {},
   "outputs": [
    {
     "name": "stdout",
     "output_type": "stream",
     "text": [
      "The story follows Reginald's team as they overcome sabotage and betrayal to secure their platform.\n"
     ]
    }
   ],
   "source": [
    "print(who_is_that_really(model, text, book, bookmark, word='noun'))"
   ]
  },
  {
   "cell_type": "code",
   "execution_count": 3,
   "metadata": {},
   "outputs": [
    {
     "name": "stdout",
     "output_type": "stream",
     "text": [
      "Draco has blackmailed Sylvia, threatened her family, and launched a massive cyber-attack to undermine Reginald's team.\n"
     ]
    }
   ],
   "source": [
    "print(who_is_that_really(model, text, book, bookmark, word='Draco'))"
   ]
  },
  {
   "cell_type": "code",
   "execution_count": 4,
   "metadata": {},
   "outputs": [
    {
     "name": "stdout",
     "output_type": "stream",
     "text": [
      "Based on the provided text, here is a description of the location \"office\" in 15 words or less:\n",
      "\n",
      "A bustling workspace with computers, screens, and collaborative energy.\n",
      "\n",
      "Note: This description does not reveal any spoilers for later sections of the story, focusing only on the setting up to Chapter 5.\n"
     ]
    }
   ],
   "source": [
    "print(who_is_that_really(model, text, book, bookmark, word='office'))"
   ]
  }
 ],
 "metadata": {
  "kernelspec": {
   "display_name": "spolier-detection",
   "language": "python",
   "name": "python3"
  },
  "language_info": {
   "codemirror_mode": {
    "name": "ipython",
    "version": 3
   },
   "file_extension": ".py",
   "mimetype": "text/x-python",
   "name": "python",
   "nbconvert_exporter": "python",
   "pygments_lexer": "ipython3",
   "version": "3.12.3"
  }
 },
 "nbformat": 4,
 "nbformat_minor": 2
}
