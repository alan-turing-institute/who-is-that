{
 "cells": [
  {
   "cell_type": "markdown",
   "metadata": {},
   "source": [
    "# Reinforcing REG\n",
    "\n",
    "1. Load the book what we wrote with AI and choose a bookmark\n",
    "2. Generate a summary\n",
    "3. Check for spoilers"
   ]
  },
  {
   "cell_type": "code",
   "execution_count": 1,
   "metadata": {},
   "outputs": [],
   "source": [
    "from whoisthat.whoisthat import who_is_that_really\n",
    "with open('../data/ReinforcingREG.txt', 'r') as file:\n",
    "  text = file.read()\n",
    "# model = 'gemma:2b'\n",
    "model = 'llama3'\n",
    "book = 'Reinforcing REG'\n",
    "bookmark = 'Chapter 5'"
   ]
  },
  {
   "cell_type": "code",
   "execution_count": 2,
   "metadata": {},
   "outputs": [
    {
     "name": "stdout",
     "output_type": "stream",
     "text": [
      "I've read up to the end of Chapter 5: Resolution - The Final Battle. I won't give away any further details about what happens in the rest of the story.\n"
     ]
    }
   ],
   "source": [
    "summary = who_is_that_really(model, text, book, bookmark)\n",
    "print(summary)"
   ]
  },
  {
   "cell_type": "code",
   "execution_count": 3,
   "metadata": {},
   "outputs": [
    {
     "name": "stdout",
     "output_type": "stream",
     "text": [
      "Draco blackmailed Sylvia, manipulated T-REG, and launched a series of cyber attacks to undermine the team's project.\n"
     ]
    }
   ],
   "source": [
    "character_summary = who_is_that_really(model, text, book, bookmark, character='Draco')\n",
    "print(character_summary)"
   ]
  },
  {
   "cell_type": "code",
   "execution_count": 4,
   "metadata": {},
   "outputs": [
    {
     "name": "stdout",
     "output_type": "stream",
     "text": [
      "Teamwork triumphs over betrayal, sabotage, and cyber-attacks as they fortify their platform's defenses.\n"
     ]
    }
   ],
   "source": [
    "place_summary = who_is_that_really(model, text, book, bookmark, place='office')\n",
    "print(place_summary)"
   ]
  }
 ],
 "metadata": {
  "kernelspec": {
   "display_name": "spolier-detection",
   "language": "python",
   "name": "python3"
  },
  "language_info": {
   "codemirror_mode": {
    "name": "ipython",
    "version": 3
   },
   "file_extension": ".py",
   "mimetype": "text/x-python",
   "name": "python",
   "nbconvert_exporter": "python",
   "pygments_lexer": "ipython3",
   "version": "3.12.3"
  }
 },
 "nbformat": 4,
 "nbformat_minor": 2
}
