{
 "cells": [
  {
   "cell_type": "markdown",
   "metadata": {},
   "source": [
    "# Reinforcing REG\n",
    "\n",
    "1. Load the book what we wrote with AI and choose a bookmark\n",
    "2. Generate a summary\n",
    "3. Check for spoilers"
   ]
  },
  {
   "cell_type": "code",
   "execution_count": 3,
   "metadata": {},
   "outputs": [],
   "source": [
    "from whoisthat.whoisthat import get_summary_from_text\n",
    "with open('../data/ReinforcingREG.txt', 'r') as file:\n",
    "  text = file.read()\n",
    "model = 'gemma:2b'\n",
    "book = 'Reinforcing REG'\n",
    "bookmark = 'Chapter 5'\n",
    "character = 'Draco'"
   ]
  },
  {
   "cell_type": "code",
   "execution_count": 4,
   "metadata": {},
   "outputs": [
    {
     "ename": "Exception",
     "evalue": "Unexpected response from spoiler detection: The spoiler is not present in the context, so I cannot answer this question from the provided context.",
     "output_type": "error",
     "traceback": [
      "\u001b[0;31m---------------------------------------------------------------------------\u001b[0m",
      "\u001b[0;31mException\u001b[0m                                 Traceback (most recent call last)",
      "Cell \u001b[0;32mIn[4], line 1\u001b[0m\n\u001b[0;32m----> 1\u001b[0m reg_story_ch5_summary_gemma \u001b[38;5;241m=\u001b[39m \u001b[43mget_summary_from_text\u001b[49m\u001b[43m(\u001b[49m\u001b[43mtext\u001b[49m\u001b[43m,\u001b[49m\u001b[43m \u001b[49m\u001b[43mbook\u001b[49m\u001b[43m,\u001b[49m\u001b[43m \u001b[49m\u001b[43mbookmark\u001b[49m\u001b[43m,\u001b[49m\u001b[43m \u001b[49m\u001b[43mcharacter\u001b[49m\u001b[43m,\u001b[49m\u001b[43m \u001b[49m\u001b[43mmodel\u001b[49m\u001b[43m)\u001b[49m\n\u001b[1;32m      2\u001b[0m \u001b[38;5;28mprint\u001b[39m(reg_story_ch5_summary_gemma)\n",
      "File \u001b[0;32m~/projects/who-is-that/notebooks/whoisthat/whoisthat.py:29\u001b[0m, in \u001b[0;36mget_summary_from_text\u001b[0;34m(text, book, bookmark, character, model)\u001b[0m\n\u001b[1;32m     27\u001b[0m   \u001b[38;5;28;01mreturn\u001b[39;00m response[\u001b[38;5;124m'\u001b[39m\u001b[38;5;124mmessage\u001b[39m\u001b[38;5;124m'\u001b[39m][\u001b[38;5;124m'\u001b[39m\u001b[38;5;124mcontent\u001b[39m\u001b[38;5;124m'\u001b[39m]\n\u001b[1;32m     28\u001b[0m summary \u001b[38;5;241m=\u001b[39m generate_summary()\n\u001b[0;32m---> 29\u001b[0m has_spoiler \u001b[38;5;241m=\u001b[39m \u001b[43mspoiler_check\u001b[49m\u001b[43m(\u001b[49m\u001b[43mbook\u001b[49m\u001b[43m,\u001b[49m\u001b[43m \u001b[49m\u001b[43mcharacter\u001b[49m\u001b[43m,\u001b[49m\u001b[43m \u001b[49m\u001b[43msummary\u001b[49m\u001b[43m,\u001b[49m\u001b[43m \u001b[49m\u001b[43mmodel\u001b[49m\u001b[43m)\u001b[49m\n\u001b[1;32m     30\u001b[0m \u001b[38;5;28;01mwhile\u001b[39;00m has_spoiler:\n\u001b[1;32m     31\u001b[0m   summary \u001b[38;5;241m=\u001b[39m generate_summary()\n",
      "File \u001b[0;32m~/projects/who-is-that/notebooks/whoisthat/whoisthat.py:57\u001b[0m, in \u001b[0;36mspoiler_check\u001b[0;34m(book, character, summary, model)\u001b[0m\n\u001b[1;32m     55\u001b[0m   \u001b[38;5;28;01mreturn\u001b[39;00m \u001b[38;5;28;01mFalse\u001b[39;00m\n\u001b[1;32m     56\u001b[0m \u001b[38;5;28;01melse\u001b[39;00m:\n\u001b[0;32m---> 57\u001b[0m   \u001b[38;5;28;01mraise\u001b[39;00m \u001b[38;5;167;01mException\u001b[39;00m(\u001b[38;5;124m\"\u001b[39m\u001b[38;5;124mUnexpected response from spoiler detection: \u001b[39m\u001b[38;5;124m\"\u001b[39m \u001b[38;5;241m+\u001b[39m answer)\n",
      "\u001b[0;31mException\u001b[0m: Unexpected response from spoiler detection: The spoiler is not present in the context, so I cannot answer this question from the provided context."
     ]
    }
   ],
   "source": [
    "reg_story_ch5_summary_gemma = get_summary_from_text(text, book, bookmark, character, model)\n",
    "print(reg_story_ch5_summary_gemma)"
   ]
  },
  {
   "cell_type": "code",
   "execution_count": 5,
   "metadata": {},
   "outputs": [
    {
     "name": "stdout",
     "output_type": "stream",
     "text": [
      "Draco blackmailed Sylvia, threatening her family, and sabotaged their project with repeated cyber-attacks.\n"
     ]
    }
   ],
   "source": [
    "model = 'llama3'\n",
    "reg_story_ch5_summary_llama = get_summary_from_text(text, book, bookmark, character, model)\n",
    "print(reg_story_ch5_summary_llama)"
   ]
  }
 ],
 "metadata": {
  "kernelspec": {
   "display_name": "spolier-detection",
   "language": "python",
   "name": "python3"
  },
  "language_info": {
   "codemirror_mode": {
    "name": "ipython",
    "version": 3
   },
   "file_extension": ".py",
   "mimetype": "text/x-python",
   "name": "python",
   "nbconvert_exporter": "python",
   "pygments_lexer": "ipython3",
   "version": "3.12.3"
  }
 },
 "nbformat": 4,
 "nbformat_minor": 2
}
