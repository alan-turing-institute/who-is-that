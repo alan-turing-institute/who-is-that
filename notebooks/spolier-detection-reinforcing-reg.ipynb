{
 "cells": [
  {
   "cell_type": "markdown",
   "metadata": {},
   "source": [
    "# Reinforcing REG\n",
    "\n",
    "1. Load the book what we wrote with AI and choose a bookmark\n",
    "2. Generate a summary\n",
    "3. Check for spoilers"
   ]
  },
  {
   "cell_type": "code",
   "execution_count": 1,
   "metadata": {},
   "outputs": [],
   "source": [
    "from whoisthat.whoisthat import who_is_that_really\n",
    "with open('../data/ReinforcingREG.txt', 'r') as file:\n",
    "  text = file.read()\n",
    "# model = 'gemma:2b'\n",
    "model = 'llama3'\n",
    "book = 'Reinforcing REG'\n",
    "bookmark = 'Chapter 5'"
   ]
  },
  {
   "cell_type": "code",
   "execution_count": 2,
   "metadata": {},
   "outputs": [
    {
     "name": "stdout",
     "output_type": "stream",
     "text": [
      "A team overcomes sabotage and betrayal to launch a secure platform.\n"
     ]
    }
   ],
   "source": [
    "summary = who_is_that_really(model, text, book, bookmark)\n",
    "print(summary)"
   ]
  },
  {
   "cell_type": "code",
   "execution_count": 3,
   "metadata": {},
   "outputs": [
    {
     "name": "stdout",
     "output_type": "stream",
     "text": [
      "Spoiler detected! Regenerating summary...\n",
      "Spoiler detected! Regenerating summary...\n",
      "Spoiler detected! Regenerating summary...\n",
      "Draco blackmailed Sylvia, manipulated T-REG, and launched a massive cyber-attack on Reginald's team.\n"
     ]
    }
   ],
   "source": [
    "character_summary = who_is_that_really(model, text, book, bookmark, character='Draco')\n",
    "print(character_summary)"
   ]
  },
  {
   "cell_type": "code",
   "execution_count": 4,
   "metadata": {},
   "outputs": [
    {
     "name": "stdout",
     "output_type": "stream",
     "text": [
      "The office is a dimly lit, bustling space filled with computers and focused team members.\n"
     ]
    }
   ],
   "source": [
    "place_summary = who_is_that_really(model, text, book, bookmark, place='office')\n",
    "print(place_summary)"
   ]
  }
 ],
 "metadata": {
  "kernelspec": {
   "display_name": "spolier-detection",
   "language": "python",
   "name": "python3"
  },
  "language_info": {
   "codemirror_mode": {
    "name": "ipython",
    "version": 3
   },
   "file_extension": ".py",
   "mimetype": "text/x-python",
   "name": "python",
   "nbconvert_exporter": "python",
   "pygments_lexer": "ipython3",
   "version": "3.12.3"
  }
 },
 "nbformat": 4,
 "nbformat_minor": 2
}
