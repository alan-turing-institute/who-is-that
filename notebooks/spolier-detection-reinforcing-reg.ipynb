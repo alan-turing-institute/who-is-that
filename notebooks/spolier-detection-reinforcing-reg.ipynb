{
 "cells": [
  {
   "cell_type": "markdown",
   "metadata": {},
   "source": [
    "# Reinforcing REG\n",
    "\n",
    "1. Load the book what we wrote with AI and choose a bookmark\n",
    "2. Generate a summary\n",
    "3. Check for spoilers"
   ]
  },
  {
   "cell_type": "code",
   "execution_count": 1,
   "metadata": {},
   "outputs": [],
   "source": [
    "from whoisthat.whoisthat import who_is_that_really\n",
    "with open('../data/ReinforcingREG.txt', 'r') as file:\n",
    "  text = file.read()\n",
    "# model = 'gemma:2b'\n",
    "model = 'llama3'\n",
    "bookmark = 'Chapter 5'"
   ]
  },
  {
   "cell_type": "code",
   "execution_count": 2,
   "metadata": {},
   "outputs": [
    {
     "name": "stdout",
     "output_type": "stream",
     "text": [
      "Team overcomes initial betrayal and sabotage to strengthen their platform against future attacks.\n"
     ]
    }
   ],
   "source": [
    "print(who_is_that_really(model, text, bookmark, word='noun', clicked='summary'))"
   ]
  },
  {
   "cell_type": "code",
   "execution_count": 3,
   "metadata": {},
   "outputs": [
    {
     "name": "stdout",
     "output_type": "stream",
     "text": [
      "Draco has launched a series of cyber-attacks against Reginald's team, seeking to undermine their platform's security.\n"
     ]
    }
   ],
   "source": [
    "print(who_is_that_really(model, text, bookmark, word='Draco', clicked='whoisthat'))"
   ]
  },
  {
   "cell_type": "code",
   "execution_count": 4,
   "metadata": {},
   "outputs": [
    {
     "name": "stdout",
     "output_type": "stream",
     "text": [
      "The office is a dimly lit, tech-laden space with an atmosphere of intense focus and collaboration.\n"
     ]
    }
   ],
   "source": [
    "print(who_is_that_really(model, text, bookmark, word='office', clicked='whatisthat'))"
   ]
  },
  {
   "cell_type": "code",
   "execution_count": 5,
   "metadata": {},
   "outputs": [
    {
     "name": "stdout",
     "output_type": "stream",
     "text": [
      "Clicked a character, not a place. Running whoisthat instead... Draco initiated a massive, coordinated cyber-attack to cripple Reginald's team before their platform launch.\n"
     ]
    }
   ],
   "source": [
    "print(who_is_that_really(model, text, bookmark, word='Draco', clicked='whatisthat'))"
   ]
  }
 ],
 "metadata": {
  "kernelspec": {
   "display_name": "spolier-detection",
   "language": "python",
   "name": "python3"
  },
  "language_info": {
   "codemirror_mode": {
    "name": "ipython",
    "version": 3
   },
   "file_extension": ".py",
   "mimetype": "text/x-python",
   "name": "python",
   "nbconvert_exporter": "python",
   "pygments_lexer": "ipython3",
   "version": "3.12.3"
  }
 },
 "nbformat": 4,
 "nbformat_minor": 2
}
