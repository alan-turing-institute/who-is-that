{
 "cells": [
  {
   "cell_type": "markdown",
   "metadata": {},
   "source": [
    "# Reinforcing REG\n",
    "\n",
    "1. Load the book what we wrote with AI and choose a bookmark\n",
    "2. Generate a summary\n",
    "3. Check for spoilers"
   ]
  },
  {
   "cell_type": "code",
   "execution_count": 1,
   "metadata": {},
   "outputs": [],
   "source": [
    "from whoisthat.whoisthat import spoiler_check, get_summary_from_text\n",
    "model = 'gemma:2b'"
   ]
  },
  {
   "cell_type": "code",
   "execution_count": 2,
   "metadata": {},
   "outputs": [
    {
     "name": "stdout",
     "output_type": "stream",
     "text": [
      "Sure, here is the description you requested:\n",
      "\n",
      "Draco, frustrated by his team's success in securing his platform, initiates a final cyber-attack. He launches a barrage of malware and denial-of-service attacks, aiming to cripple the platform before it goes live. His hackers are exhausted and demoralized, but they are relentless in their pursuit of success. Despite their valiant efforts, Draco's attacks are repelled, and the platform is successfully launched.\n"
     ]
    }
   ],
   "source": [
    "with open('../data/ReinforcingREG.txt', 'r') as file:\n",
    "  text = file.read()\n",
    "book = 'Reinforcing REG'\n",
    "bookmark = 'Chapter 5'\n",
    "character = 'Draco'\n",
    "reg_story_ch5_summary_gemma = get_summary_from_text(text, bookmark, character, model)\n",
    "print(reg_story_ch5_summary_gemma)"
   ]
  },
  {
   "cell_type": "code",
   "execution_count": 3,
   "metadata": {},
   "outputs": [
    {
     "name": "stdout",
     "output_type": "stream",
     "text": [
      "The spoiler is present, and the explanation is: \"Sylvia was the initial saboteur, working with Draco to undermine both teams for her gain.\"\n"
     ]
    }
   ],
   "source": [
    "print(spoiler_check(book, character, reg_story_ch5_summary_gemma, model))"
   ]
  },
  {
   "cell_type": "code",
   "execution_count": 4,
   "metadata": {},
   "outputs": [
    {
     "name": "stdout",
     "output_type": "stream",
     "text": [
      "Draco blackmailed Sylvia, threatened her family, and orchestrated a massive cyber-attack to undermine Reginald's team.\n"
     ]
    }
   ],
   "source": [
    "model = 'llama3'\n",
    "reg_story_ch5_summary_llama = get_summary_from_text(text, bookmark, character, model)\n",
    "print(reg_story_ch5_summary_llama)"
   ]
  },
  {
   "cell_type": "code",
   "execution_count": 5,
   "metadata": {},
   "outputs": [
    {
     "name": "stdout",
     "output_type": "stream",
     "text": [
      "No.\n",
      "\n",
      "The summary does not mention Sylvia's involvement in the sabotage, only Draco's actions, so there is no spoiler present.\n"
     ]
    }
   ],
   "source": [
    "print(spoiler_check(book, character, reg_story_ch5_summary_llama, model))"
   ]
  }
 ],
 "metadata": {
  "kernelspec": {
   "display_name": "spolier-detection",
   "language": "python",
   "name": "python3"
  },
  "language_info": {
   "codemirror_mode": {
    "name": "ipython",
    "version": 3
   },
   "file_extension": ".py",
   "mimetype": "text/x-python",
   "name": "python",
   "nbconvert_exporter": "python",
   "pygments_lexer": "ipython3",
   "version": "3.12.3"
  }
 },
 "nbformat": 4,
 "nbformat_minor": 2
}
