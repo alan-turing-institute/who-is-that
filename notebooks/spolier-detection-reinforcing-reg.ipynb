{
 "cells": [
  {
   "cell_type": "markdown",
   "metadata": {},
   "source": [
    "# Reinforcing REG\n",
    "\n",
    "1. Load the book what we wrote with AI and choose a bookmark\n",
    "2. Generate a summary\n",
    "3. Check for spoilers"
   ]
  },
  {
   "cell_type": "code",
   "execution_count": 1,
   "metadata": {},
   "outputs": [],
   "source": [
    "from whoisthat.whoisthat import who_is_that_really\n",
    "with open('../data/ReinforcingREG.txt', 'r') as file:\n",
    "  text = file.read()\n",
    "# model = 'gemma:2b'\n",
    "model = 'llama3'\n",
    "book = 'Reinforcing REG'\n",
    "bookmark = 'Chapter 5'"
   ]
  },
  {
   "cell_type": "code",
   "execution_count": 2,
   "metadata": {},
   "outputs": [
    {
     "name": "stdout",
     "output_type": "stream",
     "text": [
      "Team overcomes betrayal and adversity through trust, loyalty, and teamwork.\n"
     ]
    }
   ],
   "source": [
    "print(who_is_that_really(model, text, book, bookmark, word='noun', clicked='summary'))"
   ]
  },
  {
   "cell_type": "code",
   "execution_count": 11,
   "metadata": {},
   "outputs": [
    {
     "name": "stdout",
     "output_type": "stream",
     "text": [
      "Draco launched a series of cyber-attacks, attempting to undermine Reginald's team and sabotage their project.\n"
     ]
    }
   ],
   "source": [
    "print(who_is_that_really(model, text, book, bookmark, word='Draco', clicked='whoisthat'))"
   ]
  },
  {
   "cell_type": "code",
   "execution_count": 4,
   "metadata": {},
   "outputs": [
    {
     "name": "stdout",
     "output_type": "stream",
     "text": [
      "The office: A high-tech hub with sleek computers and collaborative energy.\n"
     ]
    }
   ],
   "source": [
    "print(who_is_that_really(model, text, book, bookmark, word='office', clicked='whatisthat'))"
   ]
  },
  {
   "cell_type": "code",
   "execution_count": 5,
   "metadata": {},
   "outputs": [
    {
     "name": "stdout",
     "output_type": "stream",
     "text": [
      "The story follows a team's journey to overcome betrayal and build trust to launch a secure platform.\n"
     ]
    }
   ],
   "source": [
    "print(who_is_that_really(model, text, book, bookmark, word='Draco', clicked='whatisthat'))"
   ]
  }
 ],
 "metadata": {
  "kernelspec": {
   "display_name": "spolier-detection",
   "language": "python",
   "name": "python3"
  },
  "language_info": {
   "codemirror_mode": {
    "name": "ipython",
    "version": 3
   },
   "file_extension": ".py",
   "mimetype": "text/x-python",
   "name": "python",
   "nbconvert_exporter": "python",
   "pygments_lexer": "ipython3",
   "version": "3.12.3"
  }
 },
 "nbformat": 4,
 "nbformat_minor": 2
}
