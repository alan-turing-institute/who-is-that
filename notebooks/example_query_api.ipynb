{
 "cells": [
  {
   "cell_type": "code",
   "execution_count": null,
   "metadata": {},
   "outputs": [],
   "source": [
    "import requests\n",
    "import json\n",
    "\n",
    "# Load context from file\n",
    "context = open(\"data/one_fifth_text.txt\", \"r\").read()\n",
    "\n",
    "# Define the character\n",
    "character = \"Mr. Wickham\"\n",
    "\n",
    "# Define the URL of your API endpoint\n",
    "url = 'http://localhost:5000/who_is_that'\n",
    "\n",
    "# Create the payload\n",
    "payload = {\n",
    "    'character': character,\n",
    "    'context': context\n",
    "}\n",
    "\n",
    "# Send the POST request\n",
    "response = requests.post(url, headers={'Content-Type': 'application/json'}, data=json.dumps(payload))\n",
    "\n",
    "# Print the response from the API\n",
    "print(response.json())\n"
   ]
  }
 ],
 "metadata": {
  "language_info": {
   "name": "python"
  }
 },
 "nbformat": 4,
 "nbformat_minor": 2
}
