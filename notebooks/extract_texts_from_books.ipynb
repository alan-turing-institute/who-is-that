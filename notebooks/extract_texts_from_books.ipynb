{
 "cells": [
  {
   "cell_type": "code",
   "execution_count": 4,
   "metadata": {},
   "outputs": [],
   "source": [
    "from ebooklib import epub\n",
    "import ebooklib\n",
    "from bs4 import BeautifulSoup\n",
    "\n",
    "def extract_text_from_epub(file_path):\n",
    "    book = epub.read_epub(file_path)\n",
    "    text_content = []\n",
    "\n",
    "    for item in book.get_items():\n",
    "        if item.get_type() == ebooklib.ITEM_DOCUMENT:\n",
    "            soup = BeautifulSoup(item.get_content(), 'xml')\n",
    "            text_content.append(soup.get_text())\n",
    "\n",
    "    return '\\n'.join(text_content)\n",
    "\n",
    "# Example usage\n",
    "epub_file_path = 'data/jane-austen_pride-and-prejudice.epub'\n",
    "text = extract_text_from_epub(epub_file_path)\n",
    "one_fifth_text = text[:len(text)//5]\n",
    "\n",
    "# save the text to a file\n",
    "with open('sample_text.txt', 'w') as f:\n",
    "    f.write(one_fifth_text)"
   ]
  }
 ],
 "metadata": {
  "kernelspec": {
   "display_name": ".venv",
   "language": "python",
   "name": "python3"
  },
  "language_info": {
   "codemirror_mode": {
    "name": "ipython",
    "version": 3
   },
   "file_extension": ".py",
   "mimetype": "text/x-python",
   "name": "python",
   "nbconvert_exporter": "python",
   "pygments_lexer": "ipython3",
   "version": "3.12.0"
  }
 },
 "nbformat": 4,
 "nbformat_minor": 2
}
