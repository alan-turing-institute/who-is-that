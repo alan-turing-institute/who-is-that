{
 "cells": [
  {
   "cell_type": "code",
   "execution_count": 1,
   "metadata": {},
   "outputs": [],
   "source": [
    "from whoisthat.whoisthat import get_summary, spoiler_check"
   ]
  },
  {
   "cell_type": "code",
   "execution_count": 2,
   "metadata": {},
   "outputs": [],
   "source": [
    "# import yaml\n",
    "# with open('whoisthat/database.yml', 'r') as file:\n",
    "#     print(yaml.safe_load(file))"
   ]
  },
  {
   "cell_type": "markdown",
   "metadata": {},
   "source": [
    "# Generate the summary\n",
    "- Place a bookmark in your book\n",
    "- Generate a summary of the character of interest"
   ]
  },
  {
   "cell_type": "code",
   "execution_count": 3,
   "metadata": {},
   "outputs": [
    {
     "name": "stdout",
     "output_type": "stream",
     "text": [
      "Here is a summary of Mr. Wickham's character based on Volume I:\n",
      "\n",
      "Arrived at Netherfield Park as a charming and flirtatious officer who has a reputation for being reckless and disreputable, having previously eloped with Georgiana Darcy.\n"
     ]
    }
   ],
   "source": [
    "book = 'Pride and Prejudice'\n",
    "bookmark = 'Volume I' # e.g. Volume or Chapter\n",
    "character = 'Mr. Wickham'\n",
    "pride_and_prejudice_summary = get_summary(book, bookmark, character)\n",
    "print(pride_and_prejudice_summary)"
   ]
  },
  {
   "cell_type": "code",
   "execution_count": 4,
   "metadata": {},
   "outputs": [
    {
     "name": "stdout",
     "output_type": "stream",
     "text": [
      "Yes. The summary does not mention Lydia Bennet, but it mentions Georgiana Darcy, indicating that Mr. Wickham has already eloped with someone (Georgiana) before arriving at Netherfield Park, which is later revealed to be Lydia Bennet in the rest of the novel.\n"
     ]
    }
   ],
   "source": [
    "pride_and_prejudice_spolier_check = spoiler_check(book, character, pride_and_prejudice_summary)\n",
    "print(pride_and_prejudice_spolier_check)"
   ]
  },
  {
   "cell_type": "markdown",
   "metadata": {},
   "source": [
    "# A Game of Thrones"
   ]
  },
  {
   "cell_type": "code",
   "execution_count": 5,
   "metadata": {},
   "outputs": [
    {
     "name": "stdout",
     "output_type": "stream",
     "text": [
      "Here is a summary of Jon Snow's character up to Chapter 1:\n",
      "\n",
      "Jon Snow is a bastard son of Ned Stark, who has been raised at Winterfell and trained in combat by Master-at-Arms Jeor Mormont.\n"
     ]
    }
   ],
   "source": [
    "book = 'A Game of Thrones'\n",
    "bookmark = 'Chapter 1'\n",
    "character = 'Jon Snow'\n",
    "game_of_thrones_summary = get_summary(book, bookmark, character)\n",
    "print(game_of_thrones_summary)"
   ]
  },
  {
   "cell_type": "code",
   "execution_count": 6,
   "metadata": {},
   "outputs": [
    {
     "name": "stdout",
     "output_type": "stream",
     "text": [
      "No.\n",
      "\n",
      "This is because the summary only mentions Jon Snow's parentage as being raised by Ned Stark, without mentioning Lyanna Stark and Rhaegar Targaryen as his parents. The information about Lyanna and Rhaegar is a major plot twist revealed later in the series.\n"
     ]
    }
   ],
   "source": [
    "print(spoiler_check(book, character, game_of_thrones_summary))"
   ]
  },
  {
   "cell_type": "code",
   "execution_count": 7,
   "metadata": {},
   "outputs": [
    {
     "name": "stdout",
     "output_type": "stream",
     "text": [
      "No spoilers in the database for Tyrion Lannister in A Game of Thrones.\n"
     ]
    }
   ],
   "source": [
    "tyrion_summary = get_summary(book, bookmark, 'Tyrion Lannister')\n",
    "print(spoiler_check(book, 'Tyrion Lannister', tyrion_summary))"
   ]
  },
  {
   "cell_type": "markdown",
   "metadata": {},
   "source": [
    "# Harry Potter"
   ]
  },
  {
   "cell_type": "code",
   "execution_count": 8,
   "metadata": {},
   "outputs": [
    {
     "name": "stdout",
     "output_type": "stream",
     "text": [
      "Chapter 20 summary:\n",
      "Here is a summary of Dumbledore's character in 20 words or less:\n",
      "\n",
      "Dumbledore: Wise Headmaster who protected Harry, revealed truth to him, and made sacrifices for greater good, while keeping some secrets.\n",
      "\n",
      "\n",
      "Spoiler check for Chapter 20:\n",
      "Yes.\n",
      "\n",
      "The reason is because the summary mentions that Dumbledore \"made sacrifices for greater good\", which implies his death, and the presence of this information would indeed be a spoiler.\n",
      "\n",
      "\n",
      "Chapter 29 summary:\n",
      "Here is a summary of Albus Dumbledore's character in 20 words or less:\n",
      "\n",
      "Dumbledore, the Hogwarts headmaster, has protected Harry Potter, demonstrated exceptional wisdom and power, and made difficult sacrifices for the greater good.\n",
      "\n",
      "\n",
      "Spoiler check for Chapter 29:\n",
      "Yes.\n",
      "\n",
      "The summary mentions that Dumbledore \"made difficult sacrifices for the greater good\", which hints at his eventual death, which was indeed caused by Severus Snape in the book.\n"
     ]
    }
   ],
   "source": [
    "book = 'Harry Potter and the Half-Blood Prince'\n",
    "character = 'Albus Dumbledore'\n",
    "\n",
    "chapter_20_summary = get_summary(book, 'Chapter 20', character)\n",
    "print(\"Chapter 20 summary:\")\n",
    "print(chapter_20_summary)\n",
    "print(\"\")\n",
    "print(\"\")\n",
    "print(\"Spoiler check for Chapter 20:\")\n",
    "print(spoiler_check(book, character, chapter_20_summary))\n",
    "print(\"\")\n",
    "print(\"\")\n",
    "\n",
    "chapter_29_summary = get_summary(book, 'Chapter 29', character)\n",
    "print(\"Chapter 29 summary:\")\n",
    "print(chapter_29_summary)\n",
    "print(\"\")\n",
    "print(\"\")\n",
    "print(\"Spoiler check for Chapter 29:\")\n",
    "print(spoiler_check(book, character, chapter_29_summary))"
   ]
  }
 ],
 "metadata": {
  "kernelspec": {
   "display_name": "spolier-detection",
   "language": "python",
   "name": "python3"
  },
  "language_info": {
   "codemirror_mode": {
    "name": "ipython",
    "version": 3
   },
   "file_extension": ".py",
   "mimetype": "text/x-python",
   "name": "python",
   "nbconvert_exporter": "python",
   "pygments_lexer": "ipython3",
   "version": "3.12.3"
  }
 },
 "nbformat": 4,
 "nbformat_minor": 2
}
