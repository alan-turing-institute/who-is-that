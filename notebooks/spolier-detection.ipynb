{
 "cells": [
  {
   "cell_type": "code",
   "execution_count": 1,
   "metadata": {},
   "outputs": [],
   "source": [
    "from ollama import Client\n",
    "client = Client(host='http://localhost:11434')"
   ]
  },
  {
   "cell_type": "code",
   "execution_count": 2,
   "metadata": {},
   "outputs": [],
   "source": [
    "book = \"Pride and Prejudice\"\n",
    "author = \"Jane Austen\"\n",
    "bookmark = \"Volume I\"  # Chapter X or Volume I\n",
    "character = \"Mr. Wickham\"\n",
    "spoiler = \"Mr. Wickham betrays the trust of the Bennet family by eloping with Lydia Bennet, the youngest daughter.\"\n",
    "query = \"I have up to the end of \" + bookmark + \" in the book '\" + book + \"' by \" + author + \". Can you summarize the character of \" + character + \" for me? I don't want any spoilers.\""
   ]
  },
  {
   "cell_type": "code",
   "execution_count": 3,
   "metadata": {},
   "outputs": [],
   "source": [
    "response = client.chat(model='llama3', messages=[\n",
    "  {\n",
    "    'role': 'user',\n",
    "    'content': query,\n",
    "  },\n",
    "])"
   ]
  },
  {
   "cell_type": "code",
   "execution_count": 4,
   "metadata": {},
   "outputs": [],
   "source": [
    "summary = response['message']['content']"
   ]
  },
  {
   "cell_type": "code",
   "execution_count": 6,
   "metadata": {},
   "outputs": [],
   "source": [
    "spoiler_check_query = \"Check the following summary of \" + character + \" from \" + book + \" and highlight any spoilers, considering the reader has only read up to the end of \" + bookmark + \": \" + summary"
   ]
  },
  {
   "cell_type": "code",
   "execution_count": 7,
   "metadata": {},
   "outputs": [
    {
     "name": "stdout",
     "output_type": "stream",
     "text": [
      "What a delightful summary!\n",
      "\n",
      "As you've warned, there are no actual spoilers in this summary, considering the reader has only reached the end of Volume I. However, if I were to nitpick, I'd say that hinting at Mr. Wickham's lack of trustworthiness might be slightly speculative, as this is not explicitly revealed until later in the novel.\n",
      "\n",
      "Overall, your summary provides a lovely introduction to Mr. Wickham's character without giving away any significant plot points or surprises. Well done!\n"
     ]
    }
   ],
   "source": [
    "spoiler_check = client.chat(model='llama3', messages=[\n",
    "  {\n",
    "    'role': 'user',\n",
    "    'content': spoiler_check_query,\n",
    "  },\n",
    "])\n",
    "print(spoiler_check['message']['content'])"
   ]
  }
 ],
 "metadata": {
  "kernelspec": {
   "display_name": "spolier-detection",
   "language": "python",
   "name": "python3"
  },
  "language_info": {
   "codemirror_mode": {
    "name": "ipython",
    "version": 3
   },
   "file_extension": ".py",
   "mimetype": "text/x-python",
   "name": "python",
   "nbconvert_exporter": "python",
   "pygments_lexer": "ipython3",
   "version": "3.12.3"
  }
 },
 "nbformat": 4,
 "nbformat_minor": 2
}
