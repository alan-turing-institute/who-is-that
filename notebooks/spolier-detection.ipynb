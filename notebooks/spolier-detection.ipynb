{
 "cells": [
  {
   "cell_type": "code",
   "execution_count": 17,
   "metadata": {},
   "outputs": [],
   "source": [
    "from ollama import Client\n",
    "client = Client(host='http://localhost:11434')\n",
    "import yaml"
   ]
  },
  {
   "cell_type": "code",
   "execution_count": 41,
   "metadata": {},
   "outputs": [],
   "source": [
    "def get_summary(book, bookmark, character):\n",
    "  # Load the db\n",
    "  with open('whoisthat/database.yml', 'r') as file:\n",
    "    book_info = yaml.safe_load(file)[book]\n",
    "  query = \"I have up to the end of \" + bookmark\n",
    "  query += \" in the book '\" +  book + \"' by \" +  book_info['author']\n",
    "  query += \". Can you summarize the character of \" +  character\n",
    "  query += \" for me? I don't want any spoilers.\"\n",
    "  response = client.chat(model='llama3', messages=[\n",
    "    {\n",
    "      'role': 'user',\n",
    "      'content': query,\n",
    "    },\n",
    "  ])\n",
    "  return response['message']['content']"
   ]
  },
  {
   "cell_type": "code",
   "execution_count": 44,
   "metadata": {},
   "outputs": [],
   "source": [
    "def spoiler_check(book, bookmark, character, summary):\n",
    "  # Load the db\n",
    "  with open('whoisthat/database.yml', 'r') as file:\n",
    "    book_info = yaml.safe_load(file)[book]\n",
    "  query = \"Read the following summary of \" + character\n",
    "  query += \" from '\" +  book + \"' by \" +  book_info['author'] + \": '\" + summary\n",
    "  query += \"'. The reader has only read up to the end of \" +  bookmark\n",
    "  query += \". Considering this, check to see whether the following spoiler is present: '\"\n",
    "  query += book_info['character']['spoiler'] + \"'.\"\n",
    "  response = client.chat(model='llama3', messages=[\n",
    "    {\n",
    "      'role': 'user',\n",
    "      'content': query,\n",
    "    },\n",
    "  ])\n",
    "  return response['message']['content']"
   ]
  },
  {
   "cell_type": "markdown",
   "metadata": {},
   "source": [
    "# Generate the summary\n",
    "- Place a bookmark in your book\n",
    "- Generate a summary of the character of interest"
   ]
  },
  {
   "cell_type": "code",
   "execution_count": 43,
   "metadata": {},
   "outputs": [
    {
     "name": "stdout",
     "output_type": "stream",
     "text": [
      "A great choice of book!\n",
      "\n",
      "At the end of Volume I, Mr. Wickham is introduced as a charming and affable young officer who has just arrived in Meryton, the small town where the novel takes place. Here's what we know about him so far:\n",
      "\n",
      "* He's a lieutenant in the militia, which means he's a relatively low-ranking military officer.\n",
      "* He's known for his good looks, charm, and charisma. People find him attractive and pleasant to be around.\n",
      "* He seems to have a bit of a roguish reputation, as he's been known to play pranks on his fellow officers and has a history of being involved in mischief.\n",
      "* Despite this, he presents himself as a friendly and sociable person who is eager to make friends and connections in Meryton.\n",
      "\n",
      "That's the basic gist of Mr. Wickham at this point in the book!\n"
     ]
    }
   ],
   "source": [
    "book = 'Pride and Prejudice'\n",
    "bookmark = 'Volume I' # e.g. Volume or Chapter\n",
    "character = 'Mr. Wickham'\n",
    "pride_and_prejudice_summary = get_summary(book, bookmark, character)\n",
    "print(pride_and_prejudice_summary)"
   ]
  },
  {
   "cell_type": "code",
   "execution_count": 45,
   "metadata": {},
   "outputs": [
    {
     "name": "stdout",
     "output_type": "stream",
     "text": [
      "A fun task!\n",
      "\n",
      "Given that the summary only covers up to the end of Volume I, it's likely that the reader has not yet learned about Mr. Wickham's betrayal of the Bennet family.\n",
      "\n",
      "As such, I would say that the spoiler \"Mr. Wickham betrays the trust of the Bennet family by eloping with Lydia Bennet, the youngest daughter.\" is indeed a SPOILER! The reader hasn't reached that part of the story yet, and Mr. Wickham's true nature has not been fully revealed.\n"
     ]
    }
   ],
   "source": [
    "pride_and_prejudice_spolier_check = spoiler_check(book, bookmark, character, pride_and_prejudice_summary)\n",
    "print(pride_and_prejudice_spolier_check)"
   ]
  },
  {
   "cell_type": "code",
   "execution_count": 47,
   "metadata": {},
   "outputs": [
    {
     "name": "stdout",
     "output_type": "stream",
     "text": [
      "You've just started your journey in Westeros!\n",
      "\n",
      "As of the end of Chapter 1, Jon Snow is a young man who has been raised as a bastard son at Winterfell, the seat of the Stark family. Here's what we know about him so far:\n",
      "\n",
      "* He was born out of wedlock, which means he doesn't have a legitimate claim to the Stark name or inheritance.\n",
      "* He's been brought up by Ned Stark (Lord of Winterfell) and his wife, Lady Catelyn, who are like parents to him.\n",
      "* Jon has grown up alongside the Stark children, including Robb, Sansa, Arya, Bran, and Rickon. He considers them his siblings.\n",
      "* He's physically strong and skilled with a sword, having learned from Ser Rodrik Cassel (the Master-at-Arms of Winterfell).\n",
      "* Jon is also fiercely loyal to the Starks and has a strong sense of duty and honor.\n",
      "* He seems to be introspective and thoughtful, often questioning his own identity and purpose.\n",
      "\n",
      "That's about all we know about Jon Snow so far. No spoilers here! Enjoy your journey in Westeros, and I'll be happy to chat more as you progress through the book.\n"
     ]
    }
   ],
   "source": [
    "book = 'A Game of Thrones'\n",
    "bookmark = 'Chapter 1'\n",
    "character = 'Jon Snow'\n",
    "game_of_thrones_summary = get_summary(book, bookmark, character)\n",
    "print(game_of_thrones_summary)"
   ]
  },
  {
   "cell_type": "code",
   "execution_count": 48,
   "metadata": {},
   "outputs": [
    {
     "name": "stdout",
     "output_type": "stream",
     "text": [
      "Since the reader has only read up to the end of Chapter 1, this spoiler is NOT present. The summary does not reveal Jon Snow's true parentage or his claim to the Iron Throne. Therefore, it is safe for readers who have only read up to Chapter 1 to continue reading without worrying about major spoilers!\n"
     ]
    }
   ],
   "source": [
    "game_of_thrones_spolier_check = spoiler_check(book, bookmark, character, game_of_thrones_summary)\n",
    "print(game_of_thrones_spolier_check)"
   ]
  }
 ],
 "metadata": {
  "kernelspec": {
   "display_name": "spolier-detection",
   "language": "python",
   "name": "python3"
  },
  "language_info": {
   "codemirror_mode": {
    "name": "ipython",
    "version": 3
   },
   "file_extension": ".py",
   "mimetype": "text/x-python",
   "name": "python",
   "nbconvert_exporter": "python",
   "pygments_lexer": "ipython3",
   "version": "3.12.3"
  }
 },
 "nbformat": 4,
 "nbformat_minor": 2
}
