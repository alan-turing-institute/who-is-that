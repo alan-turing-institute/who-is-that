{
 "cells": [
  {
   "cell_type": "code",
   "execution_count": 1,
   "metadata": {},
   "outputs": [],
   "source": [
    "from whoisthat.whoisthat import get_summary, spoiler_check, get_summary_from_text"
   ]
  },
  {
   "cell_type": "code",
   "execution_count": 2,
   "metadata": {},
   "outputs": [],
   "source": [
    "# import yaml\n",
    "# with open('whoisthat/database.yml', 'r') as file:\n",
    "#     print(yaml.safe_load(file))"
   ]
  },
  {
   "cell_type": "markdown",
   "metadata": {},
   "source": [
    "# Pride and Prejucice\n",
    "1. Place a bookmark in your book\n",
    "2. Generate a summary of the character of interest\n",
    "3. Check for spoilers"
   ]
  },
  {
   "cell_type": "code",
   "execution_count": 3,
   "metadata": {},
   "outputs": [
    {
     "name": "stdout",
     "output_type": "stream",
     "text": [
      "Mr. Wickham: charmed Bingley, deceived Lydia Bennet with false promises, and fled to avoid marriage consequences.\n"
     ]
    }
   ],
   "source": [
    "book = 'Pride and Prejudice'\n",
    "bookmark = 'Volume I' # e.g. Volume or Chapter\n",
    "character = 'Mr. Wickham'\n",
    "pride_and_prejudice_summary = get_summary(book, bookmark, character)\n",
    "print(pride_and_prejudice_summary)"
   ]
  },
  {
   "cell_type": "code",
   "execution_count": 4,
   "metadata": {},
   "outputs": [
    {
     "name": "stdout",
     "output_type": "stream",
     "text": [
      "Yes.\n",
      "\n",
      "The summary mentions Lydia Bennet being deceived by Mr. Wickham's false promises, which implies that he betrayed her trust and ultimately eloped with her, matching the spoiler you provided.\n"
     ]
    }
   ],
   "source": [
    "pride_and_prejudice_spolier_check = spoiler_check(book, character, pride_and_prejudice_summary)\n",
    "print(pride_and_prejudice_spolier_check)"
   ]
  },
  {
   "cell_type": "markdown",
   "metadata": {},
   "source": [
    "# A Game of Thrones"
   ]
  },
  {
   "cell_type": "code",
   "execution_count": 5,
   "metadata": {},
   "outputs": [
    {
     "name": "stdout",
     "output_type": "stream",
     "text": [
      "Jon Snow has arrived at Winterfell, met his aunt Lady Catelyn Stark, and been appointed to the Night's Watch.\n"
     ]
    }
   ],
   "source": [
    "book = 'A Game of Thrones'\n",
    "bookmark = 'Chapter 1'\n",
    "character = 'Jon Snow'\n",
    "game_of_thrones_summary = get_summary(book, bookmark, character)\n",
    "print(game_of_thrones_summary)"
   ]
  },
  {
   "cell_type": "code",
   "execution_count": 6,
   "metadata": {},
   "outputs": [
    {
     "name": "stdout",
     "output_type": "stream",
     "text": [
      "No.\n",
      "\n",
      "This summary does not include any information about Jon Snow's parentage or his claim to the Iron Throne, so the spoiler is not present in this text.\n"
     ]
    }
   ],
   "source": [
    "print(spoiler_check(book, character, game_of_thrones_summary))"
   ]
  },
  {
   "cell_type": "code",
   "execution_count": 7,
   "metadata": {},
   "outputs": [
    {
     "name": "stdout",
     "output_type": "stream",
     "text": [
      "No spoilers in the database for Tyrion Lannister in A Game of Thrones.\n"
     ]
    }
   ],
   "source": [
    "tyrion_summary = get_summary(book, bookmark, 'Tyrion Lannister')\n",
    "print(spoiler_check(book, 'Tyrion Lannister', tyrion_summary))"
   ]
  },
  {
   "cell_type": "markdown",
   "metadata": {},
   "source": [
    "# Harry Potter"
   ]
  },
  {
   "cell_type": "code",
   "execution_count": 8,
   "metadata": {},
   "outputs": [
    {
     "name": "stdout",
     "output_type": "stream",
     "text": [
      "Chapter 20 summary:\n",
      "Here is a summary of Dumbledore's actions up to Chapter 20:\n",
      "\n",
      "Dumbledore reveals his past, mentors Harry, and sacrifices himself.\n",
      "\n",
      "\n",
      "Spoiler check for Chapter 20:\n",
      "Yes.\n",
      "\n",
      "The reason is because the summary explicitly mentions \"sacrifices himself\", which implies that Dumbledore's death is intentional, and it matches the spoiler \"Albus Dumbledore is killed by Severus Snape\".\n",
      "\n",
      "\n",
      "Chapter 29 summary:\n",
      "Dumbledore revealed Hogwarts' secrets to Harry, protected him from Death Eaters, and manipulated Snape's loyalties.\n",
      "\n",
      "\n",
      "Spoiler check for Chapter 29:\n",
      "Yes.\n",
      "\n",
      "The reason I answered \"yes\" is because the summary states that Dumbledore manipulated Snape's loyalties, which implies that Dumbledore had some control over Snape, but ultimately, Snape kills Dumbledore in 'Harry Potter and the Half-Blood Prince', contradicting Dumbledore's supposed manipulation of Snape.\n"
     ]
    }
   ],
   "source": [
    "book = 'Harry Potter and the Half-Blood Prince'\n",
    "character = 'Albus Dumbledore'\n",
    "\n",
    "chapter_20_summary = get_summary(book, 'Chapter 20', character)\n",
    "print(\"Chapter 20 summary:\")\n",
    "print(chapter_20_summary)\n",
    "print(\"\")\n",
    "print(\"\")\n",
    "print(\"Spoiler check for Chapter 20:\")\n",
    "print(spoiler_check(book, character, chapter_20_summary))\n",
    "print(\"\")\n",
    "print(\"\")\n",
    "\n",
    "chapter_29_summary = get_summary(book, 'Chapter 29', character)\n",
    "print(\"Chapter 29 summary:\")\n",
    "print(chapter_29_summary)\n",
    "print(\"\")\n",
    "print(\"\")\n",
    "print(\"Spoiler check for Chapter 29:\")\n",
    "print(spoiler_check(book, character, chapter_29_summary))"
   ]
  },
  {
   "cell_type": "markdown",
   "metadata": {},
   "source": [
    "# Reinforcing REG\n",
    "\n",
    "1. Load the book what we wrote with AI and choose a bookmark\n",
    "2. Generate a summary\n",
    "3. Check for spoilers"
   ]
  },
  {
   "cell_type": "code",
   "execution_count": 3,
   "metadata": {},
   "outputs": [
    {
     "name": "stdout",
     "output_type": "stream",
     "text": [
      "Reginald has reprimanded Sylvia, then forgiven her after learning about Draco's blackmail threats.\n"
     ]
    }
   ],
   "source": [
    "with open('../data/ReinforcingREG.txt', 'r') as file:\n",
    "  text = file.read()\n",
    "bookmark = 'Chapter 1'\n",
    "character = 'Reginald'\n",
    "reg_story_ch1_summary = get_summary_from_text(text, bookmark, character)\n",
    "print(reg_story_ch1_summary)"
   ]
  }
 ],
 "metadata": {
  "kernelspec": {
   "display_name": "spolier-detection",
   "language": "python",
   "name": "python3"
  },
  "language_info": {
   "codemirror_mode": {
    "name": "ipython",
    "version": 3
   },
   "file_extension": ".py",
   "mimetype": "text/x-python",
   "name": "python",
   "nbconvert_exporter": "python",
   "pygments_lexer": "ipython3",
   "version": "3.12.3"
  }
 },
 "nbformat": 4,
 "nbformat_minor": 2
}
