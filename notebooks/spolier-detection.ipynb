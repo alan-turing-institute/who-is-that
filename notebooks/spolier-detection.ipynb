{
 "cells": [
  {
   "cell_type": "code",
   "execution_count": 1,
   "metadata": {},
   "outputs": [],
   "source": [
    "from whoisthat.whoisthat import get_summary, spoiler_check"
   ]
  },
  {
   "cell_type": "code",
   "execution_count": 2,
   "metadata": {},
   "outputs": [],
   "source": [
    "# import yaml\n",
    "# with open('whoisthat/database.yml', 'r') as file:\n",
    "#     print(yaml.safe_load(file))"
   ]
  },
  {
   "cell_type": "markdown",
   "metadata": {},
   "source": [
    "# Generate the summary\n",
    "- Place a bookmark in your book\n",
    "- Generate a summary of the character of interest"
   ]
  },
  {
   "cell_type": "code",
   "execution_count": 3,
   "metadata": {},
   "outputs": [
    {
     "name": "stdout",
     "output_type": "stream",
     "text": [
      "Based on the first volume, Mr. Wickham is portrayed as a charming, flirtatious, and seemingly affable officer who appears to have a carefree nature, but also has a hint of scandalous behavior surrounding him that raises suspicions about his character.\n"
     ]
    }
   ],
   "source": [
    "book = 'Pride and Prejudice'\n",
    "bookmark = 'Volume I' # e.g. Volume or Chapter\n",
    "character = 'Mr. Wickham'\n",
    "pride_and_prejudice_summary = get_summary(book, bookmark, character)\n",
    "print(pride_and_prejudice_summary)"
   ]
  },
  {
   "cell_type": "code",
   "execution_count": 4,
   "metadata": {},
   "outputs": [
    {
     "name": "stdout",
     "output_type": "stream",
     "text": [
      "No.\n",
      "\n",
      "The reason is that this summary only covers up to the end of Volume I, which means the reader has not yet read about Mr. Wickham's elopement with Lydia Bennet, as that event occurs in Volume III.\n"
     ]
    }
   ],
   "source": [
    "pride_and_prejudice_spolier_check = spoiler_check(book, bookmark, character, pride_and_prejudice_summary)\n",
    "print(pride_and_prejudice_spolier_check)"
   ]
  },
  {
   "cell_type": "markdown",
   "metadata": {},
   "source": [
    "# A Game of Thrones"
   ]
  },
  {
   "cell_type": "code",
   "execution_count": 5,
   "metadata": {},
   "outputs": [
    {
     "name": "stdout",
     "output_type": "stream",
     "text": [
      "Based on the first chapter, here's a spoiler-free summary of Jon Snow's character:\n",
      "\n",
      "Jon Snow is a young and brooding member of the Night's Watch, with a mysterious past that has left him feeling like an outsider among his fellow brothers at Castle Black.\n",
      "\n",
      "Let me know if you'd like more information or have any other questions!\n"
     ]
    }
   ],
   "source": [
    "book = 'A Game of Thrones'\n",
    "bookmark = 'Chapter 1'\n",
    "character = 'Jon Snow'\n",
    "game_of_thrones_summary = get_summary(book, bookmark, character)\n",
    "print(game_of_thrones_summary)"
   ]
  },
  {
   "cell_type": "code",
   "execution_count": 6,
   "metadata": {},
   "outputs": [
    {
     "name": "stdout",
     "output_type": "stream",
     "text": [
      "No.\n",
      "\n",
      "Explanation: Since the reader has only read up to the end of Chapter 1, they would not have been introduced to Jon Snow's true parentage or his claim to the Iron Throne, so this spoiler is not present in the information available at this point.\n"
     ]
    }
   ],
   "source": [
    "print(spoiler_check(book, bookmark, character, game_of_thrones_summary))"
   ]
  },
  {
   "cell_type": "code",
   "execution_count": 7,
   "metadata": {},
   "outputs": [
    {
     "name": "stdout",
     "output_type": "stream",
     "text": [
      "No spoilers in the database for Tyrion Lannister in A Game of Thrones.\n"
     ]
    }
   ],
   "source": [
    "tyrion_summary = get_summary(book, bookmark, 'Tyrion Lannister')\n",
    "print(spoiler_check(book, bookmark, 'Tyrion Lannister', tyrion_summary))"
   ]
  },
  {
   "cell_type": "markdown",
   "metadata": {},
   "source": [
    "# Harry Potter"
   ]
  },
  {
   "cell_type": "code",
   "execution_count": 8,
   "metadata": {},
   "outputs": [
    {
     "name": "stdout",
     "output_type": "stream",
     "text": [
      "Spoiler check for Chapter 20:\n",
      "NO.\n",
      "\n",
      "The summary doesn't mention anything about Albus Dumbledore's death, and since you've only read up to Chapter 20, it wouldn't be possible to know about his killing at this point in the story.\n",
      "Spoiler check for Chapter 29:\n",
      "No.\n",
      "\n",
      "The reason is that the summary only mentions up to Chapter 29, which means it doesn't contain any information about Dumbledore's death, which occurs later in the book.\n"
     ]
    }
   ],
   "source": [
    "book = 'Harry Potter and the Half-Blood Prince'\n",
    "character = 'Albus Dumbledore'\n",
    "chapter_20_summary = get_summary(book, 'Chapter 20', character)\n",
    "chapter_29_summary = get_summary(book, 'Chapter 29', character)\n",
    "print(\"Spoiler check for Chapter 20:\")\n",
    "print(spoiler_check(book, 'Chapter 20', character, chapter_20_summary))\n",
    "print(\"Spoiler check for Chapter 29:\")\n",
    "print(spoiler_check(book, 'Chapter 29', character, chapter_29_summary))"
   ]
  }
 ],
 "metadata": {
  "kernelspec": {
   "display_name": "spolier-detection",
   "language": "python",
   "name": "python3"
  },
  "language_info": {
   "codemirror_mode": {
    "name": "ipython",
    "version": 3
   },
   "file_extension": ".py",
   "mimetype": "text/x-python",
   "name": "python",
   "nbconvert_exporter": "python",
   "pygments_lexer": "ipython3",
   "version": "3.12.3"
  }
 },
 "nbformat": 4,
 "nbformat_minor": 2
}
