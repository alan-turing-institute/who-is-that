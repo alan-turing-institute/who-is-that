{
 "cells": [
  {
   "cell_type": "code",
   "execution_count": 1,
   "metadata": {},
   "outputs": [],
   "source": [
    "from whoisthat.whoisthat import get_summary, spoiler_check"
   ]
  },
  {
   "cell_type": "code",
   "execution_count": 2,
   "metadata": {},
   "outputs": [],
   "source": [
    "# import yaml\n",
    "# with open('whoisthat/database.yml', 'r') as file:\n",
    "#     print(yaml.safe_load(file))"
   ]
  },
  {
   "cell_type": "markdown",
   "metadata": {},
   "source": [
    "# Generate the summary\n",
    "- Place a bookmark in your book\n",
    "- Generate a summary of the character of interest"
   ]
  },
  {
   "cell_type": "code",
   "execution_count": 3,
   "metadata": {},
   "outputs": [
    {
     "name": "stdout",
     "output_type": "stream",
     "text": [
      "A great choice of book!\n",
      "\n",
      "Up to the end of Volume I, we've seen a glimpse of Mr. Wickham, and I'd be happy to summarize his character without spoiling anything:\n",
      "\n",
      "Mr. Wickham is portrayed as a charming, good-looking, and seemingly affable young officer in the militia. He's described as having a quick wit and a lively manner that makes him a pleasure to be around. His charm and charisma have already made an impression on some of the ladies at Netherfield Park, including Lydia Bennet.\n",
      "\n",
      "At this point, Wickham appears to be a likable character, possibly even the kind of charming rogue who might be fun to get to know. However, Austen's masterful characterization hints that there may be more to him than meets the eye...\n"
     ]
    }
   ],
   "source": [
    "book = 'Pride and Prejudice'\n",
    "bookmark = 'Volume I' # e.g. Volume or Chapter\n",
    "character = 'Mr. Wickham'\n",
    "pride_and_prejudice_summary = get_summary(book, bookmark, character)\n",
    "print(pride_and_prejudice_summary)"
   ]
  },
  {
   "cell_type": "code",
   "execution_count": 4,
   "metadata": {},
   "outputs": [
    {
     "name": "stdout",
     "output_type": "stream",
     "text": [
      "A fun challenge!\n",
      "\n",
      "Since the summary only covers up to the end of Volume I, it does not contain the spoiler \"Mr. Wickham betrays the trust of the Bennet family by eloping with Lydia Bennet, the youngest daughter.\"\n",
      "\n",
      "The summary only provides an introduction to Mr. Wickham's character, highlighting his charm, good looks, and charisma, without revealing any potential negative aspects or plot twists that might occur later in the novel.\n"
     ]
    }
   ],
   "source": [
    "pride_and_prejudice_spolier_check = spoiler_check(book, bookmark, character, pride_and_prejudice_summary)\n",
    "print(pride_and_prejudice_spolier_check)"
   ]
  },
  {
   "cell_type": "markdown",
   "metadata": {},
   "source": [
    "# A Game of Thrones"
   ]
  },
  {
   "cell_type": "code",
   "execution_count": 5,
   "metadata": {},
   "outputs": [
    {
     "name": "stdout",
     "output_type": "stream",
     "text": [
      "You've just started your journey into Westeros!\n",
      "\n",
      "As of Chapter 1, we only have a glimpse of Jon Snow's character through his thoughts and actions. Here's what we can gather:\n",
      "\n",
      "* Jon Snow is a bastard son of Ned Stark, the Warden of the North.\n",
      "* He's grown up at Winterfell, the Stark family seat, as a member of the Stark household.\n",
      "* He seems to have a close relationship with his \"father,\" Eddard Stark, and has likely been influenced by Stark values and morals.\n",
      "* Jon is aware of his illegitimate status and might feel some sense of insecurity or uncertainty about his place in the world due to it.\n",
      "* He appears to be a decent fighter, having spent time training with the Starks' household guards.\n",
      "* Jon's thoughts are introspective, indicating that he may be struggling with feelings of not quite belonging or fitting in.\n",
      "\n",
      "That's about all we can infer from the first chapter! I'll keep the spoilers at bay, and you can continue to enjoy your journey through Westeros without any more hints.\n"
     ]
    }
   ],
   "source": [
    "book = 'A Game of Thrones'\n",
    "bookmark = 'Chapter 1'\n",
    "character = 'Jon Snow'\n",
    "game_of_thrones_summary = get_summary(book, bookmark, character)\n",
    "print(game_of_thrones_summary)"
   ]
  },
  {
   "cell_type": "code",
   "execution_count": 6,
   "metadata": {},
   "outputs": [
    {
     "name": "stdout",
     "output_type": "stream",
     "text": [
      "No! The summary only provides information up to Chapter 1, which doesn't include any hints about Jon's true parentage or his potential claim to the Iron Throne. Therefore, the spoiler you mentioned is not present in this summary. You're safe to keep reading without worrying about major plot reveals just yet!\n"
     ]
    }
   ],
   "source": [
    "print(spoiler_check(book, bookmark, character, game_of_thrones_summary))"
   ]
  },
  {
   "cell_type": "code",
   "execution_count": 7,
   "metadata": {},
   "outputs": [
    {
     "name": "stdout",
     "output_type": "stream",
     "text": [
      "No spoilers in the database for Tyrion Lannister in A Game of Thrones.\n"
     ]
    }
   ],
   "source": [
    "tyrion_summary = get_summary(book, bookmark, 'Tyrion Lannister')\n",
    "print(spoiler_check(book, bookmark, 'Tyrion Lannister', tyrion_summary))"
   ]
  },
  {
   "cell_type": "markdown",
   "metadata": {},
   "source": [
    "# Harry Potter"
   ]
  },
  {
   "cell_type": "code",
   "execution_count": 8,
   "metadata": {},
   "outputs": [
    {
     "name": "stdout",
     "output_type": "stream",
     "text": [
      "Spoiler check for Chapter 20:\n",
      "Based on the summary provided, I can confidently say that the spoiler \"Albus Dumbledore is killed by Severus Snape\" is NOT present in the text.\n",
      "\n",
      "The summary only discusses Dumbledore's character traits and his reputation without mentioning any specific events or plot points from the story. Since the reader has only read up to Chapter 20, this means that they have not yet encountered the event where Dumbledore dies at the hands of Snape (which actually happens later in the book).\n",
      "\n",
      "So, no spoiler alert is necessary!\n",
      "Spoiler check for Chapter 29:\n",
      "A clever question!\n",
      "\n",
      "Since the reader has only read up to the end of Chapter 29, and the summary explicitly states that it doesn't include any spoilers beyond Chapter 29, it's safe to say that the spoiler \"Albus Dumbledore is killed by Severus Snape\" is NOT present in this summary.\n",
      "\n",
      "In fact, according to the book's plot, Dumbledore's death actually occurs in Chapter 36 of 'Harry Potter and the Half-Blood Prince', which is well after Chapter 29. So, any information about his death would indeed be a spoiler beyond that point!\n"
     ]
    }
   ],
   "source": [
    "book = 'Harry Potter and the Half-Blood Prince'\n",
    "character = 'Albus Dumbledore'\n",
    "chapter_20_summary = get_summary(book, 'Chapter 20', character)\n",
    "chapter_29_summary = get_summary(book, 'Chapter 29', character)\n",
    "print(\"Spoiler check for Chapter 20:\")\n",
    "print(spoiler_check(book, 'Chapter 20', character, chapter_20_summary))\n",
    "print(\"Spoiler check for Chapter 29:\")\n",
    "print(spoiler_check(book, 'Chapter 29', character, chapter_29_summary))"
   ]
  }
 ],
 "metadata": {
  "kernelspec": {
   "display_name": "spolier-detection",
   "language": "python",
   "name": "python3"
  },
  "language_info": {
   "codemirror_mode": {
    "name": "ipython",
    "version": 3
   },
   "file_extension": ".py",
   "mimetype": "text/x-python",
   "name": "python",
   "nbconvert_exporter": "python",
   "pygments_lexer": "ipython3",
   "version": "3.12.3"
  }
 },
 "nbformat": 4,
 "nbformat_minor": 2
}
