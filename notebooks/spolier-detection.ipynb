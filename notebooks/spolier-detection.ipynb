{
 "cells": [
  {
   "cell_type": "code",
   "execution_count": 1,
   "metadata": {},
   "outputs": [],
   "source": [
    "from whoisthat.whoisthat import get_summary, spoiler_check"
   ]
  },
  {
   "cell_type": "code",
   "execution_count": 2,
   "metadata": {},
   "outputs": [],
   "source": [
    "# import yaml\n",
    "# with open('whoisthat/database.yml', 'r') as file:\n",
    "#     print(yaml.safe_load(file))"
   ]
  },
  {
   "cell_type": "markdown",
   "metadata": {},
   "source": [
    "# Generate the summary\n",
    "- Place a bookmark in your book\n",
    "- Generate a summary of the character of interest"
   ]
  },
  {
   "cell_type": "code",
   "execution_count": 3,
   "metadata": {},
   "outputs": [
    {
     "name": "stdout",
     "output_type": "stream",
     "text": [
      "Based on what you've read so far, here's a summary of Mr. Wickham's character:\n",
      "\n",
      "Mr. Wickham is a charming and attractive officer who exudes a sense of freedom and nonconformity, which can be quite captivating to those around him.\n",
      "\n",
      "Let me know if you'd like more information or have any questions!\n"
     ]
    }
   ],
   "source": [
    "book = 'Pride and Prejudice'\n",
    "bookmark = 'Volume I' # e.g. Volume or Chapter\n",
    "character = 'Mr. Wickham'\n",
    "pride_and_prejudice_summary = get_summary(book, bookmark, character)\n",
    "print(pride_and_prejudice_summary)"
   ]
  },
  {
   "cell_type": "code",
   "execution_count": 4,
   "metadata": {},
   "outputs": [
    {
     "name": "stdout",
     "output_type": "stream",
     "text": [
      "NO.\n",
      "\n",
      "The reason is that this information is not included in the given summary of Mr. Wickham's character, which only describes his charming and attractive nature, without mentioning any specific actions he takes or consequences of his behavior.\n"
     ]
    }
   ],
   "source": [
    "pride_and_prejudice_spolier_check = spoiler_check(book, character, pride_and_prejudice_summary)\n",
    "print(pride_and_prejudice_spolier_check)"
   ]
  },
  {
   "cell_type": "markdown",
   "metadata": {},
   "source": [
    "# A Game of Thrones"
   ]
  },
  {
   "cell_type": "code",
   "execution_count": 5,
   "metadata": {},
   "outputs": [
    {
     "name": "stdout",
     "output_type": "stream",
     "text": [
      "Based on the first chapter, Jon Snow is a young, brooding, and somewhat isolated member of the Night's Watch at Castle Black, who has a mysterious past and seems to be struggling with his place in the world.\n"
     ]
    }
   ],
   "source": [
    "book = 'A Game of Thrones'\n",
    "bookmark = 'Chapter 1'\n",
    "character = 'Jon Snow'\n",
    "game_of_thrones_summary = get_summary(book, bookmark, character)\n",
    "print(game_of_thrones_summary)"
   ]
  },
  {
   "cell_type": "code",
   "execution_count": 6,
   "metadata": {},
   "outputs": [
    {
     "name": "stdout",
     "output_type": "stream",
     "text": [
      "No.\n",
      "\n",
      "The given summary only describes Jon Snow's character at the beginning of the story, without revealing his true parentage or any potential claim to the Iron Throne. The spoiler you provided mentions specific details about Jon's lineage, which are not present in this initial summary.\n"
     ]
    }
   ],
   "source": [
    "print(spoiler_check(book, character, game_of_thrones_summary))"
   ]
  },
  {
   "cell_type": "code",
   "execution_count": 7,
   "metadata": {},
   "outputs": [
    {
     "name": "stdout",
     "output_type": "stream",
     "text": [
      "No spoilers in the database for Tyrion Lannister in A Game of Thrones.\n"
     ]
    }
   ],
   "source": [
    "tyrion_summary = get_summary(book, bookmark, 'Tyrion Lannister')\n",
    "print(spoiler_check(book, 'Tyrion Lannister', tyrion_summary))"
   ]
  },
  {
   "cell_type": "markdown",
   "metadata": {},
   "source": [
    "# Harry Potter"
   ]
  },
  {
   "cell_type": "code",
   "execution_count": 11,
   "metadata": {},
   "outputs": [
    {
     "name": "stdout",
     "output_type": "stream",
     "text": [
      "Chapter 20 summary:\n",
      "Albus Dumbledore is a wise, compassionate, and powerful wizard who has played a crucial role in shaping Harry's journey, possessing a deep understanding of human nature and a strong sense of justice.\n",
      "\n",
      "(No spoilers, I promise!)\n",
      "\n",
      "\n",
      "Spoiler check for Chapter 20:\n",
      "No.\n",
      "The reason is that there is no mention of Dumbledore's death in this summary, which only focuses on his character traits and role in Harry's journey.\n",
      "\n",
      "\n",
      "Chapter 29 summary:\n",
      "Based on the first four Harry Potter books, including the Half-Blood Prince, Albus Dumbledore is a wise, compassionate, and powerful wizard who serves as the Headmaster of Hogwarts School of Witchcraft and Wizardry and plays a crucial role in shaping Harry's destiny, known for his wisdom, wit, and unwavering commitment to what he believes is right.\n",
      "\n",
      "\n",
      "Spoiler check for Chapter 29:\n",
      "Yes.\n",
      "\n",
      "The summary mentions the \"Half-Blood Prince\" book, which is the fifth book in the series where Albus Dumbledore's death occurs.\n"
     ]
    }
   ],
   "source": [
    "book = 'Harry Potter and the Half-Blood Prince'\n",
    "character = 'Albus Dumbledore'\n",
    "\n",
    "chapter_20_summary = get_summary(book, 'Chapter 20', character)\n",
    "print(\"Chapter 20 summary:\")\n",
    "print(chapter_20_summary)\n",
    "print(\"\")\n",
    "print(\"\")\n",
    "print(\"Spoiler check for Chapter 20:\")\n",
    "print(spoiler_check(book, character, chapter_20_summary))\n",
    "print(\"\")\n",
    "print(\"\")\n",
    "\n",
    "chapter_29_summary = get_summary(book, 'Chapter 29', character)\n",
    "print(\"Chapter 29 summary:\")\n",
    "print(chapter_29_summary)\n",
    "print(\"\")\n",
    "print(\"\")\n",
    "print(\"Spoiler check for Chapter 29:\")\n",
    "print(spoiler_check(book, character, chapter_29_summary))"
   ]
  }
 ],
 "metadata": {
  "kernelspec": {
   "display_name": "spolier-detection",
   "language": "python",
   "name": "python3"
  },
  "language_info": {
   "codemirror_mode": {
    "name": "ipython",
    "version": 3
   },
   "file_extension": ".py",
   "mimetype": "text/x-python",
   "name": "python",
   "nbconvert_exporter": "python",
   "pygments_lexer": "ipython3",
   "version": "3.12.3"
  }
 },
 "nbformat": 4,
 "nbformat_minor": 2
}
