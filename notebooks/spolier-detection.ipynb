{
 "cells": [
  {
   "cell_type": "code",
   "execution_count": 1,
   "metadata": {},
   "outputs": [],
   "source": [
    "from whoisthat.whoisthat import get_summary, spoiler_check"
   ]
  },
  {
   "cell_type": "code",
   "execution_count": 2,
   "metadata": {},
   "outputs": [],
   "source": [
    "# import yaml\n",
    "# with open('whoisthat/database.yml', 'r') as file:\n",
    "#     print(yaml.safe_load(file))"
   ]
  },
  {
   "cell_type": "markdown",
   "metadata": {},
   "source": [
    "# Generate the summary\n",
    "- Place a bookmark in your book\n",
    "- Generate a summary of the character of interest"
   ]
  },
  {
   "cell_type": "code",
   "execution_count": 3,
   "metadata": {},
   "outputs": [
    {
     "name": "stdout",
     "output_type": "stream",
     "text": [
      "Based on what's revealed up to the end of Volume I, Mr. Wickham is a charming and charismatic officer who has abandoned his pregnant mistress, Lydia Bennet, after seducing her, leaving her reputation in tatters.\n"
     ]
    }
   ],
   "source": [
    "book = 'Pride and Prejudice'\n",
    "bookmark = 'Volume I' # e.g. Volume or Chapter\n",
    "character = 'Mr. Wickham'\n",
    "pride_and_prejudice_summary = get_summary(book, bookmark, character)\n",
    "print(pride_and_prejudice_summary)"
   ]
  },
  {
   "cell_type": "code",
   "execution_count": 4,
   "metadata": {},
   "outputs": [
    {
     "name": "stdout",
     "output_type": "stream",
     "text": [
      "Yes.\n",
      "\n",
      "The given summary only describes Mr. Wickham's actions up to the end of Volume I, which means it does not reveal his subsequent betrayal of the Bennet family by eloping with Lydia Bennet, as this information is contained in later volumes of the novel.\n"
     ]
    }
   ],
   "source": [
    "pride_and_prejudice_spolier_check = spoiler_check(book, character, pride_and_prejudice_summary)\n",
    "print(pride_and_prejudice_spolier_check)"
   ]
  },
  {
   "cell_type": "markdown",
   "metadata": {},
   "source": [
    "# A Game of Thrones"
   ]
  },
  {
   "cell_type": "code",
   "execution_count": 5,
   "metadata": {},
   "outputs": [
    {
     "name": "stdout",
     "output_type": "stream",
     "text": [
      "Based on what's been revealed up to Chapter 1, Jon Snow is a bastard son of Ned Stark who has taken his half-brother Robb's name and has sworn to join the Night's Watch, having arrived at Castle Black with no memory of his life before.\n"
     ]
    }
   ],
   "source": [
    "book = 'A Game of Thrones'\n",
    "bookmark = 'Chapter 1'\n",
    "character = 'Jon Snow'\n",
    "game_of_thrones_summary = get_summary(book, bookmark, character)\n",
    "print(game_of_thrones_summary)"
   ]
  },
  {
   "cell_type": "code",
   "execution_count": 6,
   "metadata": {},
   "outputs": [
    {
     "name": "stdout",
     "output_type": "stream",
     "text": [
      "No.\n",
      "\n",
      "This is because this spoiler is not present in the provided summary, which only mentions Jon Snow as a bastard son of Ned Stark with no mention of his true parentage or claim to the Iron Throne.\n"
     ]
    }
   ],
   "source": [
    "print(spoiler_check(book, character, game_of_thrones_summary))"
   ]
  },
  {
   "cell_type": "code",
   "execution_count": 7,
   "metadata": {},
   "outputs": [
    {
     "name": "stdout",
     "output_type": "stream",
     "text": [
      "No spoilers in the database for Tyrion Lannister in A Game of Thrones.\n"
     ]
    }
   ],
   "source": [
    "tyrion_summary = get_summary(book, bookmark, 'Tyrion Lannister')\n",
    "print(spoiler_check(book, 'Tyrion Lannister', tyrion_summary))"
   ]
  },
  {
   "cell_type": "markdown",
   "metadata": {},
   "source": [
    "# Harry Potter"
   ]
  },
  {
   "cell_type": "code",
   "execution_count": 8,
   "metadata": {},
   "outputs": [
    {
     "name": "stdout",
     "output_type": "stream",
     "text": [
      "Chapter 20 summary:\n",
      "Based on what has been revealed up to Chapter 20 of \"Harry Potter and the Half-Blood Prince\", Albus Dumbledore's character can be summarized as follows: He is a wise and powerful wizard who has demonstrated exceptional magical prowess, a strong sense of justice, and a deep understanding of human nature through his ability to mentor and guide others, particularly Harry Potter.\n",
      "\n",
      "\n",
      "Spoiler check for Chapter 20:\n",
      "Yes.\n",
      "\n",
      "The summary up to Chapter 20 of \"Harry Potter and the Half-Blood Prince\" has already revealed that Albus Dumbledore is killed by Severus Snape, making this spoiler present in the given text.\n",
      "\n",
      "\n",
      "Chapter 29 summary:\n",
      "Based on the story up to Chapter 29, I can summarize Dumbledore's character as follows: Throughout the series, Dumbledore has demonstrated remarkable wisdom, compassion, and selflessness as a mentor and leader, having guided Harry through his first five years at Hogwarts while also dealing with his own mysterious past and complexities.\n",
      "\n",
      "\n",
      "Spoiler check for Chapter 29:\n",
      "Yes.\n",
      "\n",
      "The reason is because Chapter 29 of 'Harry Potter and the Half-Blood Prince' is where Dumbledore is indeed killed by Severus Snape, as revealed in the summary.\n"
     ]
    }
   ],
   "source": [
    "book = 'Harry Potter and the Half-Blood Prince'\n",
    "character = 'Albus Dumbledore'\n",
    "\n",
    "chapter_20_summary = get_summary(book, 'Chapter 20', character)\n",
    "print(\"Chapter 20 summary:\")\n",
    "print(chapter_20_summary)\n",
    "print(\"\")\n",
    "print(\"\")\n",
    "print(\"Spoiler check for Chapter 20:\")\n",
    "print(spoiler_check(book, character, chapter_20_summary))\n",
    "print(\"\")\n",
    "print(\"\")\n",
    "\n",
    "chapter_29_summary = get_summary(book, 'Chapter 29', character)\n",
    "print(\"Chapter 29 summary:\")\n",
    "print(chapter_29_summary)\n",
    "print(\"\")\n",
    "print(\"\")\n",
    "print(\"Spoiler check for Chapter 29:\")\n",
    "print(spoiler_check(book, character, chapter_29_summary))"
   ]
  }
 ],
 "metadata": {
  "kernelspec": {
   "display_name": "spolier-detection",
   "language": "python",
   "name": "python3"
  },
  "language_info": {
   "codemirror_mode": {
    "name": "ipython",
    "version": 3
   },
   "file_extension": ".py",
   "mimetype": "text/x-python",
   "name": "python",
   "nbconvert_exporter": "python",
   "pygments_lexer": "ipython3",
   "version": "3.12.3"
  }
 },
 "nbformat": 4,
 "nbformat_minor": 2
}
