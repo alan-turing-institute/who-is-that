{
 "cells": [
  {
   "cell_type": "code",
   "execution_count": 1,
   "metadata": {},
   "outputs": [],
   "source": [
    "from whoisthat.whoisthat import get_summary, spoiler_check"
   ]
  },
  {
   "cell_type": "markdown",
   "metadata": {},
   "source": [
    "# Generate the summary\n",
    "- Place a bookmark in your book\n",
    "- Generate a summary of the character of interest"
   ]
  },
  {
   "cell_type": "code",
   "execution_count": 2,
   "metadata": {},
   "outputs": [
    {
     "name": "stdout",
     "output_type": "stream",
     "text": [
      "You've only just begun your journey into the world of Elizabeth Bennet!\n",
      "\n",
      "As you've not yet reached the end of Volume I, I won't give away any major plot points or surprises. However, I can provide a brief summary of Mr. Wickham's character without spoiling anything:\n",
      "\n",
      "Mr. Wickham is a charming, handsome, and charismatic officer in the militia. He seems to embody the perfect blend of good looks, wit, and affability. His mannerisms are polished, and he has a way with words that can be quite captivating.\n",
      "\n",
      "At this point in the story, Mr. Wickham appears to be a likable character who is easy to get along with. He's someone who can charm his way out of most situations, and his presence seems to have an impact on those around him.\n",
      "\n",
      "That's all I'll say for now! You've only just begun your journey into the world of Pride and Prejudice, so keep reading to discover more about Mr. Wickham and the other characters that inhabit this beloved novel!\n"
     ]
    }
   ],
   "source": [
    "book = 'Pride and Prejudice'\n",
    "bookmark = 'Volume I' # e.g. Volume or Chapter\n",
    "character = 'Mr. Wickham'\n",
    "pride_and_prejudice_summary = get_summary(book, bookmark, character)\n",
    "print(pride_and_prejudice_summary)"
   ]
  },
  {
   "cell_type": "code",
   "execution_count": 3,
   "metadata": {},
   "outputs": [
    {
     "name": "stdout",
     "output_type": "stream",
     "text": [
      "No, the summary does not contain the mentioned spoiler. Since the reader has only read up to the end of Volume I, it's likely that the author is intentionally avoiding revealing major plot points or surprises at this point in the story. The summary provides a brief description of Mr. Wickham's character and personality without giving away any significant events or twists.\n"
     ]
    }
   ],
   "source": [
    "pride_and_prejudice_spolier_check = spoiler_check(book, bookmark, character, pride_and_prejudice_summary)\n",
    "print(pride_and_prejudice_spolier_check)"
   ]
  },
  {
   "cell_type": "code",
   "execution_count": 4,
   "metadata": {},
   "outputs": [
    {
     "name": "stdout",
     "output_type": "stream",
     "text": [
      "A great choice!\n",
      "\n",
      "At this point in the story, Jon Snow is a relatively minor character, but one who will play a significant role later on. Based on what you've read so far, here's a brief summary of his character:\n",
      "\n",
      "**Age:** Jon Snow is a young man, likely in his late teens or early twenties.\n",
      "\n",
      "**Background:** He is the bastard son of Ned Stark, the Warden of the North and Lord of Winterfell. This means he has no claim to the Stark family inheritance or title.\n",
      "\n",
      "**Personality:** Jon appears to be honest, loyal, and honorable. He's willing to take risks to do what's right, even if it puts him at odds with others.\n",
      "\n",
      "**Skills:** As a bastard son, Jon hasn't had access to the same education or training as his half-brothers, but he's shown to be resourceful and physically capable, having grown up in the harsh environment of the North.\n",
      "\n",
      "**Relationships:** Jon has a close relationship with his father, Ned Stark, who is depicted as being kind and accepting towards him. This suggests that Jon values his bond with his father and respects his wisdom.\n",
      "\n",
      "That's about all you can gather from Chapter 1! I hope this summary helps, and feel free to ask if you have any other questions.\n"
     ]
    }
   ],
   "source": [
    "book = 'A Game of Thrones'\n",
    "bookmark = 'Chapter 1'\n",
    "character = 'Jon Snow'\n",
    "game_of_thrones_summary = get_summary(book, bookmark, character)\n",
    "print(game_of_thrones_summary)"
   ]
  },
  {
   "cell_type": "code",
   "execution_count": 5,
   "metadata": {},
   "outputs": [
    {
     "name": "stdout",
     "output_type": "stream",
     "text": [
      "A clever question!\n",
      "\n",
      "Considering that the reader has only read up to the end of Chapter 1, it's safe to say that they don't know any information about Jon Snow's true parentage or his potential claim to the Iron Throne.\n",
      "\n",
      "Therefore, the spoiler you mentioned - \"Jon Snow is the son of Lyanna Stark and Rhaegar Targaryen, making him the legitimate heir to the Iron Throne; Aegon Targaryen.\" - would be a spoiler.\n"
     ]
    }
   ],
   "source": [
    "game_of_thrones_spolier_check = spoiler_check(book, bookmark, character, game_of_thrones_summary)\n",
    "print(game_of_thrones_spolier_check)"
   ]
  }
 ],
 "metadata": {
  "kernelspec": {
   "display_name": "spolier-detection",
   "language": "python",
   "name": "python3"
  },
  "language_info": {
   "codemirror_mode": {
    "name": "ipython",
    "version": 3
   },
   "file_extension": ".py",
   "mimetype": "text/x-python",
   "name": "python",
   "nbconvert_exporter": "python",
   "pygments_lexer": "ipython3",
   "version": "3.12.3"
  }
 },
 "nbformat": 4,
 "nbformat_minor": 2
}
