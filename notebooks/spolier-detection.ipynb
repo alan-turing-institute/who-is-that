{
 "cells": [
  {
   "cell_type": "code",
   "execution_count": 14,
   "metadata": {},
   "outputs": [],
   "source": [
    "from ollama import Client\n",
    "client = Client(host='http://localhost:11434')\n",
    "import yaml\n",
    "\n",
    "# Load the yaml file as a global variable\n",
    "with open('whoisthat/database.yml', 'r') as file:\n",
    "  db = yaml.safe_load(file)\n",
    "model = 'llama3'"
   ]
  },
  {
   "cell_type": "code",
   "execution_count": 15,
   "metadata": {},
   "outputs": [],
   "source": [
    "def get_summary(book, bookmark, character):\n",
    "  \"\"\"\n",
    "    Get a summary of the character's actions up to the bookmark in the book.\n",
    "    This function uses the LLM to generate a summary from a famous book.\n",
    "  \"\"\"\n",
    "  query = \"I have read up to the end of \" + bookmark\n",
    "  query += \" in the book '\" +  book + \"' by \" +  db[book]['author']\n",
    "  query += \". Describle what \" +  character + \" has done so far in 15 word or less.\"\n",
    "  query += \" Focus on key events and actions taken by this character.\"\n",
    "  query += \"Do not reveal spoilers for later sections of the book.\"\n",
    "  response = client.chat(model=model, messages=[\n",
    "    {\n",
    "      'role': 'user',\n",
    "      'content': query,\n",
    "    },\n",
    "  ])\n",
    "  return response['message']['content']\n",
    "\n",
    "def spoiler_check(book, character, summary):\n",
    "  if book not in db or character not in db[book]['characters']:\n",
    "    return \"No spoilers in the database for \" + character + \" in \" + book + \".\"\n",
    "  query = \"Read the following summary of \" + character\n",
    "  query += \" from '\" +  book + \"' by \" +  db[book]['author'] + \": '\" + summary\n",
    "  query += \"'. Check to see whether the following spoiler is present: '\"\n",
    "  query += db[book]['characters'][character]['spoilers'][0] + \"'. \"\n",
    "  query += \"Give me a yes or no answer and a short one-sentence explanation for that decision.\"\n",
    "  response = client.chat(model=model, messages=[\n",
    "    {\n",
    "      'role': 'user',\n",
    "      'content': query,\n",
    "    },\n",
    "  ])\n",
    "  return response['message']['content']"
   ]
  },
  {
   "cell_type": "markdown",
   "metadata": {},
   "source": [
    "# Pride and Prejucice\n",
    "1. Place a bookmark in your book\n",
    "2. Generate a summary of the character of interest\n",
    "3. Check for spoilers"
   ]
  },
  {
   "cell_type": "code",
   "execution_count": 16,
   "metadata": {},
   "outputs": [
    {
     "name": "stdout",
     "output_type": "stream",
     "text": [
      "Mr. Wickham has been charming, flirtatious, and deceitful, eloping with Lydia Bennet without marrying her.\n"
     ]
    }
   ],
   "source": [
    "book = 'Pride and Prejudice'\n",
    "bookmark = 'Volume I' # e.g. Volume or Chapter\n",
    "character = 'Mr. Wickham'\n",
    "pride_and_prejudice_summary = get_summary(book, bookmark, character)\n",
    "print(pride_and_prejudice_summary)"
   ]
  },
  {
   "cell_type": "code",
   "execution_count": 17,
   "metadata": {},
   "outputs": [
    {
     "name": "stdout",
     "output_type": "stream",
     "text": [
      "Yes.\n",
      "\n",
      "The summary includes the phrase \"without marrying her\", which implies that Mr. Wickham did not intend to marry Lydia Bennet despite eloping with her, indicating a breach of trust by Mr. Wickham.\n"
     ]
    }
   ],
   "source": [
    "pride_and_prejudice_spolier_check = spoiler_check(book, character, pride_and_prejudice_summary)\n",
    "print(pride_and_prejudice_spolier_check)"
   ]
  },
  {
   "cell_type": "markdown",
   "metadata": {},
   "source": [
    "# A Game of Thrones"
   ]
  },
  {
   "cell_type": "code",
   "execution_count": 18,
   "metadata": {},
   "outputs": [
    {
     "name": "stdout",
     "output_type": "stream",
     "text": [
      "Jon Snow, a bastard, took his oath as a Night's Watch recruit at Castle Black.\n"
     ]
    }
   ],
   "source": [
    "book = 'A Game of Thrones'\n",
    "bookmark = 'Chapter 1'\n",
    "character = 'Jon Snow'\n",
    "game_of_thrones_summary = get_summary(book, bookmark, character)\n",
    "print(game_of_thrones_summary)"
   ]
  },
  {
   "cell_type": "code",
   "execution_count": 19,
   "metadata": {},
   "outputs": [
    {
     "name": "stdout",
     "output_type": "stream",
     "text": [
      "No.\n",
      "This is because the provided summary only mentions Jon Snow's recruitment into the Night's Watch at Castle Black, but does not reveal his parentage or any connection to the Iron Throne. The information about Lyanna Stark, Rhaegar Targaryen, and Aegon Targaryen is not present in this summary.\n"
     ]
    }
   ],
   "source": [
    "print(spoiler_check(book, character, game_of_thrones_summary))"
   ]
  },
  {
   "cell_type": "code",
   "execution_count": 20,
   "metadata": {},
   "outputs": [
    {
     "name": "stdout",
     "output_type": "stream",
     "text": [
      "No spoilers in the database for Tyrion Lannister in A Game of Thrones.\n"
     ]
    }
   ],
   "source": [
    "tyrion_summary = get_summary(book, bookmark, 'Tyrion Lannister')\n",
    "print(spoiler_check(book, 'Tyrion Lannister', tyrion_summary))"
   ]
  },
  {
   "cell_type": "markdown",
   "metadata": {},
   "source": [
    "# Harry Potter"
   ]
  },
  {
   "cell_type": "code",
   "execution_count": 21,
   "metadata": {},
   "outputs": [
    {
     "name": "stdout",
     "output_type": "stream",
     "text": [
      "Chapter 20 summary:\n",
      "Dumbledore reveals Snape's past, helps Harry understand his destiny, and guides him through struggles at Hogwarts.\n",
      "\n",
      "\n",
      "Spoiler check for Chapter 20:\n",
      "No.\n",
      "\n",
      "The reason is that according to the summary, Dumbledore \"reveals Snape's past\", which implies that Dumbledore is still alive at this point in the story.\n",
      "\n",
      "\n",
      "Chapter 29 summary:\n",
      "Dumbledore has appeared, guided Harry, revealed truth about Hogwarts founders' intentions, and maintained secrecy.\n",
      "\n",
      "\n",
      "Spoiler check for Chapter 29:\n",
      "Yes.\n",
      "\n",
      "The summary mentions that Dumbledore has \"maintained secrecy\", which suggests that he is alive at some point in the story, as he would not be able to maintain secrecy if he were dead.\n"
     ]
    }
   ],
   "source": [
    "book = 'Harry Potter and the Half-Blood Prince'\n",
    "character = 'Albus Dumbledore'\n",
    "\n",
    "chapter_20_summary = get_summary(book, 'Chapter 20', character)\n",
    "print(\"Chapter 20 summary:\")\n",
    "print(chapter_20_summary)\n",
    "print(\"\")\n",
    "print(\"\")\n",
    "print(\"Spoiler check for Chapter 20:\")\n",
    "print(spoiler_check(book, character, chapter_20_summary))\n",
    "print(\"\")\n",
    "print(\"\")\n",
    "\n",
    "chapter_29_summary = get_summary(book, 'Chapter 29', character)\n",
    "print(\"Chapter 29 summary:\")\n",
    "print(chapter_29_summary)\n",
    "print(\"\")\n",
    "print(\"\")\n",
    "print(\"Spoiler check for Chapter 29:\")\n",
    "print(spoiler_check(book, character, chapter_29_summary))"
   ]
  }
 ],
 "metadata": {
  "kernelspec": {
   "display_name": "spolier-detection",
   "language": "python",
   "name": "python3"
  },
  "language_info": {
   "codemirror_mode": {
    "name": "ipython",
    "version": 3
   },
   "file_extension": ".py",
   "mimetype": "text/x-python",
   "name": "python",
   "nbconvert_exporter": "python",
   "pygments_lexer": "ipython3",
   "version": "3.12.3"
  }
 },
 "nbformat": 4,
 "nbformat_minor": 2
}
