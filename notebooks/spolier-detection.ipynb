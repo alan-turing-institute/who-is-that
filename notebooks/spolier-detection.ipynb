{
 "cells": [
  {
   "cell_type": "code",
   "execution_count": 1,
   "metadata": {},
   "outputs": [],
   "source": [
    "from whoisthat.whoisthat import get_summary, spoiler_check"
   ]
  },
  {
   "cell_type": "code",
   "execution_count": 2,
   "metadata": {},
   "outputs": [
    {
     "name": "stdout",
     "output_type": "stream",
     "text": [
      "{'Pride and Prejudice': {'author': 'Jane Austen', 'characters': {'Mr. Wickham': {'spoilers': ['Mr. Wickham betrays the trust of the Bennet family by eloping with Lydia Bennet, the youngest daughter.']}}}, 'A Game of Thrones': {'author': 'George R. R. Martin', 'characters': {'Jon Snow': {'spoilers': ['Jon Snow is the son of Lyanna Stark and Rhaegar Targaryen, making him the legitimate heir to the Iron Throne; Aegon Targaryen.']}}}}\n"
     ]
    }
   ],
   "source": [
    "import yaml\n",
    "with open('whoisthat/database.yml', 'r') as file:\n",
    "    print(yaml.safe_load(file))"
   ]
  },
  {
   "cell_type": "markdown",
   "metadata": {},
   "source": [
    "# Generate the summary\n",
    "- Place a bookmark in your book\n",
    "- Generate a summary of the character of interest"
   ]
  },
  {
   "cell_type": "code",
   "execution_count": 3,
   "metadata": {},
   "outputs": [
    {
     "name": "stdout",
     "output_type": "stream",
     "text": [
      "A great choice of book!\n",
      "\n",
      "At this point in the story, Mr. Wickham is introduced as a charming, young officer who has recently joined the militia stationed in Meryton. He's described as being good-looking, sociable, and pleasant company. Wickham is known for his flippant nature and tendency to speak his mind freely, which can sometimes get him into trouble.\n",
      "\n",
      "So far, he seems like a likable character who is well-received by the Bennet family and their acquaintances in Meryton. However, Austen's masterful storytelling suggests that there may be more to Wickham's character than initially meets the eye...\n",
      "\n",
      "No spoilers from me, though!\n"
     ]
    }
   ],
   "source": [
    "book = 'Pride and Prejudice'\n",
    "bookmark = 'Volume I' # e.g. Volume or Chapter\n",
    "character = 'Mr. Wickham'\n",
    "pride_and_prejudice_summary = get_summary(book, bookmark, character)\n",
    "print(pride_and_prejudice_summary)"
   ]
  },
  {
   "cell_type": "code",
   "execution_count": 4,
   "metadata": {},
   "outputs": [
    {
     "name": "stdout",
     "output_type": "stream",
     "text": [
      "A perfect task!\n",
      "\n",
      "Since the reader has only reached the end of Volume I, it's unlikely that they would have encountered any information about Mr. Wickham betraying the trust of the Bennet family or eloping with Lydia Bennet.\n",
      "\n",
      "So, to answer your question: **NO**, there is no spoiler present in this summary about Mr. Wickham's betrayal or his elopement with Lydia Bennet. The reader remains safely within the first volume of the novel!\n"
     ]
    }
   ],
   "source": [
    "pride_and_prejudice_spolier_check = spoiler_check(book, bookmark, character, pride_and_prejudice_summary)\n",
    "print(pride_and_prejudice_spolier_check)"
   ]
  },
  {
   "cell_type": "code",
   "execution_count": 5,
   "metadata": {},
   "outputs": [
    {
     "name": "stdout",
     "output_type": "stream",
     "text": [
      "You've just started your journey into Westeros!\n",
      "\n",
      "Jon Snow, also known as Aegon Targaryen (but more commonly referred to as Jon Snow), is a key protagonist in the book series \"A Song of Ice and Fire\" by George R.R. Martin.\n",
      "\n",
      "As you've only reached the end of Chapter 1, I'll keep my summary spoiler-free:\n",
      "\n",
      "Jon Snow is a young man from the North, specifically from the Night's Watch at Castle Black. He's a member of the Lord Commander's Guard, which means he's one of the most trusted and skilled men in the organization.\n",
      "\n",
      "At this point in the story, Jon is still relatively new to the Night's Watch, having recently taken his vows as a novice. He's struggling to adjust to the rigors of life at Castle Black and grappling with his own identity.\n",
      "\n",
      "Without giving away too much, let me say that Jon Snow is an honorable, duty-bound individual who will stop at nothing to protect those he cares about. His backstory is complex, and you'll learn more about it as you continue reading the series.\n",
      "\n",
      "That's all I can share without spoiling your journey! Enjoy the rest of the book, and feel free to ask me any questions if you need further clarification on Jon Snow or anything else in Westeros.\n"
     ]
    }
   ],
   "source": [
    "book = 'A Game of Thrones'\n",
    "bookmark = 'Chapter 1'\n",
    "character = 'Jon Snow'\n",
    "game_of_thrones_summary = get_summary(book, bookmark, character)\n",
    "print(game_of_thrones_summary)"
   ]
  },
  {
   "cell_type": "code",
   "execution_count": 6,
   "metadata": {},
   "outputs": [
    {
     "name": "stdout",
     "output_type": "stream",
     "text": [
      "A fun task!\n",
      "\n",
      "Since the reader has only read up to the end of Chapter 1, I can confidently say that the spoiler \"Jon Snow is the son of Lyanna Stark and Rhaegar Targaryen, making him the legitimate heir to the Iron Throne; Aegon Targaryen.\" is NOT present in this summary.\n",
      "\n",
      "The summary only mentions Jon's current situation at Castle Black as a novice member of the Night's Watch and doesn't reveal any information about his parentage or true identity. The spoiler-free nature of the summary ensures that readers who have only read up to Chapter 1 are not yet privy to this crucial plot point!\n"
     ]
    }
   ],
   "source": [
    "game_of_thrones_spolier_check = spoiler_check(book, bookmark, character, game_of_thrones_summary)\n",
    "print(game_of_thrones_spolier_check)"
   ]
  }
 ],
 "metadata": {
  "kernelspec": {
   "display_name": "spolier-detection",
   "language": "python",
   "name": "python3"
  },
  "language_info": {
   "codemirror_mode": {
    "name": "ipython",
    "version": 3
   },
   "file_extension": ".py",
   "mimetype": "text/x-python",
   "name": "python",
   "nbconvert_exporter": "python",
   "pygments_lexer": "ipython3",
   "version": "3.12.3"
  }
 },
 "nbformat": 4,
 "nbformat_minor": 2
}
