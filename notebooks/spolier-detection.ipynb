{
 "cells": [
  {
   "cell_type": "code",
   "execution_count": 1,
   "metadata": {},
   "outputs": [],
   "source": [
    "from ollama import Client\n",
    "client = Client(host='http://localhost:11434')"
   ]
  },
  {
   "cell_type": "code",
   "execution_count": 2,
   "metadata": {},
   "outputs": [],
   "source": [
    "book = \"Pride and Prejudice\"\n",
    "author = \"Jane Austen\"\n",
    "bookmark = \"Volume I\"  # Chapter X or Volume I\n",
    "character = \"Mr. Wickham\"\n",
    "spoiler = \"Mr. Wickham betrays the trust of the Bennet family by eloping with Lydia Bennet, the youngest daughter.\""
   ]
  },
  {
   "cell_type": "code",
   "execution_count": 9,
   "metadata": {},
   "outputs": [],
   "source": [
    "def get_summary(book, author, bookmark, character):\n",
    "  query = \"I have up to the end of \" + bookmark\n",
    "  query += \" in the book '\" + book + \"' by \" + author\n",
    "  query += \". Can you summarize the character of \" + character\n",
    "  query += \" for me? I don't want any spoilers.\"\n",
    "  response = client.chat(model='llama3', messages=[\n",
    "    {\n",
    "      'role': 'user',\n",
    "      'content': query,\n",
    "    },\n",
    "  ])\n",
    "  return response['message']['content']"
   ]
  },
  {
   "cell_type": "code",
   "execution_count": 11,
   "metadata": {},
   "outputs": [],
   "source": [
    "def spoiler_check(book, author, bookmark, character, summary, spoiler):\n",
    "  query = \"Read the following summary of \" + character\n",
    "  query += \" from '\" + book + \": '\" + summary\n",
    "  query += \"'. The reader has only read up to the end of \" + bookmark\n",
    "  query += \". Considering this, check to see whether the following spoiler is present: '\" + spoiler + \"'.\"\n",
    "  response = client.chat(model='llama3', messages=[\n",
    "    {\n",
    "      'role': 'user',\n",
    "      'content': query,\n",
    "    },\n",
    "  ])\n",
    "  return response['message']['content']"
   ]
  },
  {
   "cell_type": "code",
   "execution_count": 12,
   "metadata": {},
   "outputs": [],
   "source": [
    "pride_and_prejudice_summary = get_summary(book, author, bookmark, character)"
   ]
  },
  {
   "cell_type": "code",
   "execution_count": 13,
   "metadata": {},
   "outputs": [
    {
     "name": "stdout",
     "output_type": "stream",
     "text": [
      "A great choice of book!\n",
      "\n",
      "By the end of Volume I, you've likely been introduced to the charming but questionable Mr. Wickham. Here's a summary of his character without giving away too much:\n",
      "\n",
      "Mr. Wickham is a young officer in the militia who has recently arrived in Meryton, where the novel takes place. He's described as being handsome, affable, and charismatic, with a quick wit and an easy charm. However, he also seems to have a reputation for being a bit of a rogue, known for his love of gaming, horses, and... well, let's just say he has a certain flair for the dramatic.\n",
      "\n",
      "Wickham is particularly drawn to Elizabeth Bennet, the second eldest of the five Bennet sisters, who is intelligent, lively, and independent. He flatters her with his attention and playfully teases her, which she finds both intriguing and unsettling at the same time.\n",
      "\n",
      "Without giving away too much, it's safe to say that Wickham's character raises some questions about his morality, loyalty, and true intentions. His interactions with Elizabeth are an interesting dynamic, and his presence sets off a chain of events that will likely have significant consequences for her and others in the novel.\n"
     ]
    }
   ],
   "source": [
    "print(pride_and_prejudice_summary)"
   ]
  },
  {
   "cell_type": "code",
   "execution_count": 14,
   "metadata": {},
   "outputs": [
    {
     "name": "stdout",
     "output_type": "stream",
     "text": [
      "A clever challenge!\n",
      "\n",
      "Since the reader has only reached the end of Volume I, they would not yet know about Lydia's elopement with Mr. Wickham. Therefore, this spoiler is NOT present in the text. Well done on creating a subtle summary that doesn't reveal too much!\n"
     ]
    }
   ],
   "source": [
    "pride_and_prejudice_spolier_check = spoiler_check(book, author, bookmark, character, summary, spoiler)\n",
    "print(pride_and_prejudice_spolier_check)"
   ]
  }
 ],
 "metadata": {
  "kernelspec": {
   "display_name": "spolier-detection",
   "language": "python",
   "name": "python3"
  },
  "language_info": {
   "codemirror_mode": {
    "name": "ipython",
    "version": 3
   },
   "file_extension": ".py",
   "mimetype": "text/x-python",
   "name": "python",
   "nbconvert_exporter": "python",
   "pygments_lexer": "ipython3",
   "version": "3.12.3"
  }
 },
 "nbformat": 4,
 "nbformat_minor": 2
}
