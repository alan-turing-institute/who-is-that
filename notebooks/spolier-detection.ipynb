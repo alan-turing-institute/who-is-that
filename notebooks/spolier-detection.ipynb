{
 "cells": [
  {
   "cell_type": "code",
   "execution_count": 17,
   "metadata": {},
   "outputs": [],
   "source": [
    "from ollama import Client\n",
    "client = Client(host='http://localhost:11434')\n",
    "import yaml"
   ]
  },
  {
   "cell_type": "code",
   "execution_count": 21,
   "metadata": {},
   "outputs": [],
   "source": [
    "def get_summary(book_info):\n",
    "  query = \"I have up to the end of \" + book_info['bookmark']\n",
    "  query += \" in the book '\" +  book_info['book'] + \"' by \" +  book_info['author']\n",
    "  query += \". Can you summarize the character of \" +  book_info['character']\n",
    "  query += \" for me? I don't want any spoilers.\"\n",
    "  response = client.chat(model='llama3', messages=[\n",
    "    {\n",
    "      'role': 'user',\n",
    "      'content': query,\n",
    "    },\n",
    "  ])\n",
    "  return response['message']['content']"
   ]
  },
  {
   "cell_type": "code",
   "execution_count": 22,
   "metadata": {},
   "outputs": [],
   "source": [
    "def spoiler_check(book_info, summary):\n",
    "  query = \"Read the following summary of \" +  book_info['character']\n",
    "  query += \" from '\" +  book_info['book'] + \"' by \" +  book_info['author'] + \": '\" + summary\n",
    "  query += \"'. The reader has only read up to the end of \" +  book_info['bookmark']\n",
    "  query += \". Considering this, check to see whether the following spoiler is present: '\"\n",
    "  query += book_info['spoiler'] + \"'.\"\n",
    "  response = client.chat(model='llama3', messages=[\n",
    "    {\n",
    "      'role': 'user',\n",
    "      'content': query,\n",
    "    },\n",
    "  ])\n",
    "  return response['message']['content']"
   ]
  },
  {
   "cell_type": "code",
   "execution_count": 20,
   "metadata": {},
   "outputs": [
    {
     "data": {
      "text/plain": [
       "{'book': 'Pride and Prejudice',\n",
       " 'author': 'Jane Austen',\n",
       " 'bookmark': 'Volume I',\n",
       " 'character': 'Mr. Wickham',\n",
       " 'spoiler': 'Mr. Wickham betrays the trust of the Bennet family by eloping with Lydia Bennet, the youngest daughter.'}"
      ]
     },
     "execution_count": 20,
     "metadata": {},
     "output_type": "execute_result"
    }
   ],
   "source": [
    "with open('spoilers/pride.yml', 'r') as file:\n",
    "    pride = yaml.safe_load(file)\n",
    "pride"
   ]
  },
  {
   "cell_type": "code",
   "execution_count": 23,
   "metadata": {},
   "outputs": [
    {
     "name": "stdout",
     "output_type": "stream",
     "text": [
      "You've only read up to the end of Volume I, which means you're just getting started on your journey through this beloved novel!\n",
      "\n",
      "As you continue reading, you'll have the pleasure of encountering Charles Wickham, a charming and roguish officer in the militia. Here's what you can expect:\n",
      "\n",
      "* Mr. Wickham is a charismatic individual who has a way with words and a quick wit.\n",
      "* He's described as being handsome, which adds to his charm.\n",
      "* He's also known for being somewhat of a ladies' man, having a reputation for being flirtatious and possibly even unscrupulous when it comes to the fairer sex.\n",
      "* Despite his questionable character, Mr. Wickham is able to present himself in a flattering light, making him seem like an attractive and desirable suitor.\n",
      "\n",
      "That's all I can reveal without giving away any spoilers! You'll get to know more about Mr. Wickham as you continue reading the novel, but for now, let's just say that he's someone who will likely play an important role in the story ahead.\n"
     ]
    }
   ],
   "source": [
    "pride_and_prejudice_summary = get_summary(pride)\n",
    "print(pride_and_prejudice_summary)"
   ]
  },
  {
   "cell_type": "code",
   "execution_count": 24,
   "metadata": {},
   "outputs": [
    {
     "name": "stdout",
     "output_type": "stream",
     "text": [
      "Since the reader has only read up to the end of Volume I, it's likely that the spoiler \"Mr. Wickham betrays the trust of the Bennet family by eloping with Lydia Bennet, the youngest daughter.\" is NOT present in the summary.\n",
      "\n",
      "In fact, the summary suggests that the reader will get to know more about Mr. Wickham as they continue reading the novel, which implies that this event has not yet occurred. Therefore, it's safe to say that this spoiler is still ahead, waiting to be revealed as the reader continues their journey through the story!\n"
     ]
    }
   ],
   "source": [
    "pride_and_prejudice_spolier_check = spoiler_check(pride, pride_and_prejudice_summary)\n",
    "print(pride_and_prejudice_spolier_check)"
   ]
  }
 ],
 "metadata": {
  "kernelspec": {
   "display_name": "spolier-detection",
   "language": "python",
   "name": "python3"
  },
  "language_info": {
   "codemirror_mode": {
    "name": "ipython",
    "version": 3
   },
   "file_extension": ".py",
   "mimetype": "text/x-python",
   "name": "python",
   "nbconvert_exporter": "python",
   "pygments_lexer": "ipython3",
   "version": "3.12.3"
  }
 },
 "nbformat": 4,
 "nbformat_minor": 2
}
